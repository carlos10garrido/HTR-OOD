{
 "cells": [
  {
   "cell_type": "markdown",
   "metadata": {},
   "source": [
    "## Train language models for computing perplexity (meause how much a source text dataset and a target differ)\n",
    "\n",
    "We'll use a GPT-2 model from Hugging Face with a custom tokenizer, will should be at a character level. "
   ]
  },
  {
   "cell_type": "code",
   "execution_count": null,
   "metadata": {},
   "outputs": [],
   "source": []
  },
  {
   "cell_type": "code",
   "execution_count": 1,
   "metadata": {},
   "outputs": [
    {
     "name": "stderr",
     "output_type": "stream",
     "text": [
      "/usr/local/lib/python3.10/dist-packages/tqdm/auto.py:21: TqdmWarning: IProgress not found. Please update jupyter and ipywidgets. See https://ipywidgets.readthedocs.io/en/stable/user_install.html\n",
      "  from .autonotebook import tqdm as notebook_tqdm\n",
      "/usr/local/lib/python3.10/dist-packages/torchvision/io/image.py:13: UserWarning: Failed to load image Python extension: '/usr/local/lib/python3.10/dist-packages/torchvision/image.so: undefined symbol: _ZN3c1017RegisterOperatorsD1Ev'If you don't plan on using image functionality from `torchvision.io`, you can ignore this warning. Otherwise, there might be something wrong with your environment. Did you have `libjpeg` or `libpng` installed before building `torchvision` from source?\n",
      "  warn(\n",
      "/usr/local/lib/python3.10/dist-packages/torchvision/datapoints/__init__.py:14: UserWarning: The torchvision.datapoints and torchvision.transforms.v2 namespaces are still Beta. While we do not expect major breaking changes, some APIs may still change according to user feedback. Please submit any feedback you may have in this issue: https://github.com/pytorch/vision/issues/6753, and you can also check out https://github.com/pytorch/vision/issues/7319 to learn more about the APIs that we suspect might involve future changes. You can silence this warning by calling torchvision.disable_beta_transforms_warning().\n",
      "  warnings.warn(_BETA_TRANSFORMS_WARNING)\n",
      "/usr/local/lib/python3.10/dist-packages/torchvision/transforms/v2/__init__.py:64: UserWarning: The torchvision.datapoints and torchvision.transforms.v2 namespaces are still Beta. While we do not expect major breaking changes, some APIs may still change according to user feedback. Please submit any feedback you may have in this issue: https://github.com/pytorch/vision/issues/6753, and you can also check out https://github.com/pytorch/vision/issues/7319 to learn more about the APIs that we suspect might involve future changes. You can silence this warning by calling torchvision.disable_beta_transforms_warning().\n",
      "  warnings.warn(_BETA_TRANSFORMS_WARNING)\n"
     ]
    }
   ],
   "source": [
    "from transformers import AutoModelForCausalLM, AutoTokenizer\n",
    "\n",
    "import sys\n",
    "sys.path.append(\"..\") # Adds higher directory to python modules path.\n",
    "\n",
    "from src.data.htr_datamodule import HTRDataModule\n",
    "from src.data.htr_datamodule import HTRDataset\n",
    "\n",
    "import torch\n",
    "from torchvision.transforms import v2\n",
    "import torchvision\n",
    "\n",
    "import src\n",
    "\n"
   ]
  },
  {
   "cell_type": "code",
   "execution_count": 114,
   "metadata": {},
   "outputs": [],
   "source": [
    "# # Import GPT-2\n",
    "\n",
    "# model = AutoModelForCausalLM.from_pretrained(\"gpt2\")"
   ]
  },
  {
   "cell_type": "code",
   "execution_count": 115,
   "metadata": {},
   "outputs": [
    {
     "name": "stdout",
     "output_type": "stream",
     "text": [
      "GPT2LMHeadModel(\n",
      "  (transformer): GPT2Model(\n",
      "    (wte): Embedding(94, 768)\n",
      "    (wpe): Embedding(1024, 768)\n",
      "    (drop): Dropout(p=0.1, inplace=False)\n",
      "    (h): ModuleList(\n",
      "      (0-11): 12 x GPT2Block(\n",
      "        (ln_1): LayerNorm((768,), eps=1e-05, elementwise_affine=True)\n",
      "        (attn): GPT2SdpaAttention(\n",
      "          (c_attn): Conv1D()\n",
      "          (c_proj): Conv1D()\n",
      "          (attn_dropout): Dropout(p=0.1, inplace=False)\n",
      "          (resid_dropout): Dropout(p=0.1, inplace=False)\n",
      "        )\n",
      "        (ln_2): LayerNorm((768,), eps=1e-05, elementwise_affine=True)\n",
      "        (mlp): GPT2MLP(\n",
      "          (c_fc): Conv1D()\n",
      "          (c_proj): Conv1D()\n",
      "          (act): NewGELUActivation()\n",
      "          (dropout): Dropout(p=0.1, inplace=False)\n",
      "        )\n",
      "      )\n",
      "    )\n",
      "    (ln_f): LayerNorm((768,), eps=1e-05, elementwise_affine=True)\n",
      "  )\n",
      "  (lm_head): Linear(in_features=768, out_features=94, bias=False)\n",
      ")\n"
     ]
    }
   ],
   "source": [
    "print(model)"
   ]
  },
  {
   "cell_type": "code",
   "execution_count": 2,
   "metadata": {},
   "outputs": [
    {
     "name": "stdout",
     "output_type": "stream",
     "text": [
      "GPT2LMHeadModel(\n",
      "  (transformer): GPT2Model(\n",
      "    (wte): Embedding(94, 128)\n",
      "    (wpe): Embedding(1024, 128)\n",
      "    (drop): Dropout(p=0.1, inplace=False)\n",
      "    (h): ModuleList(\n",
      "      (0-11): 12 x GPT2Block(\n",
      "        (ln_1): LayerNorm((128,), eps=1e-05, elementwise_affine=True)\n",
      "        (attn): GPT2SdpaAttention(\n",
      "          (c_attn): Conv1D()\n",
      "          (c_proj): Conv1D()\n",
      "          (attn_dropout): Dropout(p=0.1, inplace=False)\n",
      "          (resid_dropout): Dropout(p=0.1, inplace=False)\n",
      "        )\n",
      "        (ln_2): LayerNorm((128,), eps=1e-05, elementwise_affine=True)\n",
      "        (mlp): GPT2MLP(\n",
      "          (c_fc): Conv1D()\n",
      "          (c_proj): Conv1D()\n",
      "          (act): NewGELUActivation()\n",
      "          (dropout): Dropout(p=0.1, inplace=False)\n",
      "        )\n",
      "      )\n",
      "    )\n",
      "    (ln_f): LayerNorm((128,), eps=1e-05, elementwise_affine=True)\n",
      "  )\n",
      "  (lm_head): Linear(in_features=128, out_features=94, bias=False)\n",
      ")\n",
      "2522624\n"
     ]
    }
   ],
   "source": [
    "# from transformers import AutoTokenizer, GPT2Model, GPT2Config\n",
    "\n",
    "from transformers import AutoTokenizer, GPT2LMHeadModel, GPT2Config\n",
    "\n",
    "# tokenizer = AutoTokenizer.from_pretrained(\"openai-community/gpt2\")\n",
    "config = GPT2Config(\n",
    "  vocab_size=94,\n",
    "  bos_token_id=0,\n",
    "  eos_token_id=1, \n",
    "  n_positions=1024,\n",
    "  n_layers=4,\n",
    "  n_head=4,\n",
    "  n_embd=128,\n",
    "  dropout=0.4,\n",
    ")\n",
    "model = GPT2LMHeadModel(config)\n",
    "print(model)\n",
    "\n",
    "\n",
    "# Print number of parameters\n",
    "print(model.num_parameters()) # 85.9M\n"
   ]
  },
  {
   "cell_type": "code",
   "execution_count": 3,
   "metadata": {},
   "outputs": [
    {
     "name": "stdout",
     "output_type": "stream",
     "text": [
      "VOCAB SIZE TOKENIZER: 94\n",
      "COMPLETE VOCAB: {'[BOS]': 0, '[EOS]': 1, '[PAD]': 2, '[UNK]': 3, ' ': 4, '!': 5, '\"': 6, '#': 7, '%': 8, '&': 9, \"'\": 10, '(': 11, ')': 12, '*': 13, '+': 14, ',': 15, '-': 16, '.': 17, '/': 18, '0': 19, '1': 20, '2': 21, '3': 22, '4': 23, '5': 24, '6': 25, '7': 26, '8': 27, '9': 28, ':': 29, ';': 30, '<': 31, '=': 32, '>': 33, '?': 34, 'A': 35, 'B': 36, 'C': 37, 'D': 38, 'E': 39, 'F': 40, 'G': 41, 'H': 42, 'I': 43, 'J': 44, 'K': 45, 'L': 46, 'M': 47, 'N': 48, 'O': 49, 'P': 50, 'Q': 51, 'R': 52, 'S': 53, 'T': 54, 'U': 55, 'V': 56, 'W': 57, 'X': 58, 'Y': 59, 'Z': 60, '[': 61, ']': 62, '_': 63, 'a': 64, 'b': 65, 'c': 66, 'd': 67, 'e': 68, 'f': 69, 'g': 70, 'h': 71, 'i': 72, 'j': 73, 'k': 74, 'l': 75, 'm': 76, 'n': 77, 'o': 78, 'p': 79, 'q': 80, 'r': 81, 's': 82, 't': 83, 'u': 84, 'v': 85, 'w': 86, 'x': 87, 'y': 88, 'z': 89, '{': 90, '}': 91, '£': 92, '€': 93}\n"
     ]
    },
    {
     "name": "stderr",
     "output_type": "stream",
     "text": [
      "/usr/local/lib/python3.10/dist-packages/torchvision/transforms/v2/_deprecated.py:41: UserWarning: The transform `ToTensor()` is deprecated and will be removed in a future release. Instead, please use `v2.Compose([transforms.ToImageTensor(), v2.ToDtype(torch.float32, scale=True)])`.\n",
      "  warnings.warn(\n"
     ]
    }
   ],
   "source": [
    "# Instantiate manually the datasets\n",
    "tokenizer = src.data.components.tokenizers.CharTokenizer(model_name=\"char_tokenizer\", vocab_file=\"../data/vocab.txt\")\n",
    "\n",
    "# IAM dataset\n",
    "with open(\"../data/htr_datasets/IAM/splits/train.txt\", \"r\") as f:\n",
    "  setfiles = f.read().splitlines()\n",
    "  \n",
    "read_data = src.data.data_utils.read_data_IAM\n",
    "images_paths, words = read_data(\"../data/htr_datasets/IAM/IAM_lines/\", \"../data/htr_datasets/IAM/IAM_xml/\", setfiles)\n",
    "htr_dataset = HTRDataset(images_paths, words, binarize=True, transform=v2.Compose([v2.ToTensor()]))"
   ]
  },
  {
   "cell_type": "code",
   "execution_count": 35,
   "metadata": {},
   "outputs": [
    {
     "name": "stderr",
     "output_type": "stream",
     "text": [
      "/usr/local/lib/python3.10/dist-packages/torchvision/transforms/v2/_deprecated.py:41: UserWarning: The transform `ToTensor()` is deprecated and will be removed in a future release. Instead, please use `v2.Compose([transforms.ToImageTensor(), v2.ToDtype(torch.float32, scale=True)])`.\n",
      "  warnings.warn(\n"
     ]
    }
   ],
   "source": [
    "# Generic functions for reading data and create a dataloader\n",
    "\n",
    "def read_dataset(images_path, sequences_path, split_path, read_data, tokenizer, batch_size, transform=v2.Compose([v2.ToTensor()])):\n",
    "  with open(split_path, \"r\") as f:\n",
    "    setfiles = f.read().splitlines()\n",
    "  \n",
    "  images_paths, words = read_data(images_path, sequences_path, setfiles)\n",
    "  htr_dataset = HTRDataset(images_paths, words, binarize=True, transform=transform)\n",
    "\n",
    "  # Create dataloader for iam\n",
    "  dl = torch.utils.data.DataLoader(\n",
    "    htr_dataset, \n",
    "    batch_size=batch_size, \n",
    "    shuffle=True, \n",
    "    num_workers=4, \n",
    "    pin_memory=True,\n",
    "    collate_fn=lambda batch: src.data.data_utils.collate_fn(\n",
    "      batch,\n",
    "      img_size=(128,1024), # Warning, for debugging purposes\n",
    "      text_transform=tokenizer.prepare_text\n",
    "    )\n",
    "  )\n",
    "  return dl"
   ]
  },
  {
   "cell_type": "code",
   "execution_count": 40,
   "metadata": {},
   "outputs": [],
   "source": [
    "dl_train = read_dataset(\"../data/htr_datasets/IAM/IAM_lines/\", \"../data/htr_datasets/IAM/IAM_xml/\", \"../data/htr_datasets/IAM/splits/train.txt\", src.data.data_utils.read_data_IAM, tokenizer, batch_size=4,\n",
    "                        transform=v2.Compose(\n",
    "                          [\n",
    "                            torchvision.transforms.v2.RandomApply([torchvision.transforms.v2.ElasticTransform(5.0, 5.0)], p=0.5),\n",
    "                            torchvision.transforms.v2.RandomApply([torchvision.transforms.v2.RandomAffine(degrees=1, translate=(0.01, 0.05), shear=[-1, 1, -1, 1], fill=255)], p=0.5),\n",
    "                            torchvision.transforms.v2.RandomApply([torchvision.transforms.v2.RandomPerspective(distortion_scale=0.1, p=1.0, fill=255)], p=0.5),\n",
    "                            torchvision.transforms.v2.ToTensor()\n",
    "                          ]))\n",
    "dl_val = read_dataset(\"../data/htr_datasets/IAM/IAM_lines/\", \"../data/htr_datasets/IAM/IAM_xml/\", \"../data/htr_datasets/IAM/splits/val.txt\", src.data.data_utils.read_data_IAM, tokenizer, batch_size=4,\n",
    "                      transform=v2.Compose([v2.ToTensor()]))"
   ]
  },
  {
   "cell_type": "code",
   "execution_count": null,
   "metadata": {},
   "outputs": [],
   "source": []
  },
  {
   "cell_type": "code",
   "execution_count": 37,
   "metadata": {},
   "outputs": [
    {
     "name": "stdout",
     "output_type": "stream",
     "text": [
      "tensor([[ 0, 65, 81, 78, 84, 70, 71, 83,  4, 83, 78,  4, 71, 72, 82,  4, 77, 78,\n",
      "         83, 72, 66, 68, 17,  1,  2,  2,  2,  2,  2,  2,  2,  2,  2,  2,  2,  2,\n",
      "          2,  2,  2,  2,  2,  2,  2,  2,  2,  2],\n",
      "        [ 0, 72, 77, 82, 68, 77, 82, 72, 83, 72, 85, 68, 75, 88,  4, 79, 84, 82,\n",
      "         71, 72, 77, 70, 15,  4, 47, 72, 82, 82,  4, 53, 71, 68, 72, 75, 64,  4,\n",
      "         35, 75, 75, 68, 77,  1,  2,  2,  2,  2],\n",
      "        [ 0, 68, 69, 69, 72, 66, 72, 68, 77, 66, 88,  4, 64, 77, 67, 15,  4, 72,\n",
      "         77,  4, 83, 71, 68,  4, 66, 64, 82, 68,  4, 78, 69,  4, 47, 81, 17,  4,\n",
      "         52, 72, 66, 71, 64, 81, 67, 82, 15,  1],\n",
      "        [ 0, 82, 84, 65, 82, 83, 64, 77, 83, 72, 64, 75, 75, 88,  4, 71, 72, 70,\n",
      "         71, 68, 81,  4, 75, 64, 82, 83,  4, 88, 68, 64, 81,  4, 83, 71, 64, 77,\n",
      "          4, 72, 77,  4, 20, 28, 24, 28, 17,  1]])\n",
      "brought to his notice.\n",
      "insensitively pushing, Miss Sheila Allen\n",
      "efficiency and, in the case of Mr. Richards,\n",
      "substantially higher last year than in 1959.\n"
     ]
    }
   ],
   "source": [
    "# Get a batch from dl_train\n",
    "\n",
    "images, targets, _ = next(iter(dl_train))\n",
    "\n",
    "print(targets.transpose(0,1))\n",
    "\n",
    "for seq in targets.transpose(0,1):\n",
    "  seq = seq.numpy().tolist()\n",
    "  print(tokenizer.detokenize(seq))\n",
    "\n"
   ]
  },
  {
   "cell_type": "code",
   "execution_count": 7,
   "metadata": {},
   "outputs": [
    {
     "name": "stdout",
     "output_type": "stream",
     "text": [
      "torch.Size([42, 4])\n",
      "torch.Size([42, 4, 94])\n"
     ]
    }
   ],
   "source": [
    "# Pass a sequence to the model for training\n",
    "\n",
    "print(targets.shape)\n",
    "outputs = model(targets)\n",
    "print(outputs.logits.shape)\n",
    "\n"
   ]
  },
  {
   "cell_type": "code",
   "execution_count": 155,
   "metadata": {},
   "outputs": [
    {
     "name": "stdout",
     "output_type": "stream",
     "text": [
      "generated_output: tensor([[ 0,  0,  0,  0,  0,  0,  0,  0,  0,  0,  0,  0,  0,  0,  0,  0,  0,  0,\n",
      "          0,  0,  0,  0,  0,  0,  0,  0,  0,  0,  0,  0,  0,  0,  0,  0,  0,  0,\n",
      "          0,  0,  0,  0,  0,  0,  0,  0,  0,  0,  0,  0,  0,  0,  0,  0,  0,  0,\n",
      "          0,  0,  0,  0,  0,  0,  0,  0,  0,  0,  0, 22, 22, 22, 22, 22, 22, 22,\n",
      "         22, 22, 22, 22, 22, 22, 22, 22, 22, 22, 22, 22, 22, 22, 22, 22, 22, 22,\n",
      "         22, 22, 22, 22, 22, 22, 22, 22, 22, 22, 22, 22],\n",
      "        [ 0, 16, 16, 16, 16, 16, 16, 16, 16, 16, 16, 16, 16, 16, 16, 16, 16, 16,\n",
      "         16, 16, 16, 16, 16, 16, 16, 16, 16, 16, 16, 16, 16, 16, 16, 16, 16, 16,\n",
      "         16, 16, 16, 16, 16, 16, 16, 16, 16, 16, 16, 16, 16, 16, 16, 16, 16, 16,\n",
      "         16, 16, 16, 16, 16, 16, 16, 16, 16, 71, 71, 71, 71, 71, 71, 71, 71, 71,\n",
      "         71, 71, 71, 71, 71, 71, 71, 71, 71, 71, 71, 71, 71, 71, 71, 71, 71, 71,\n",
      "         71, 71, 71, 71, 71, 71, 71, 71, 71, 71, 71, 71]], device='cuda:0')\n",
      "3333333333333333333333333333333333333\n",
      "--------------------------------------------------------------hhhhhhhhhhhhhhhhhhhhhhhhhhhhhhhhhhhhhhh\n"
     ]
    },
    {
     "name": "stderr",
     "output_type": "stream",
     "text": [
      "100%|██████████| 406/406 [00:24<00:00, 16.72it/s]"
     ]
    },
    {
     "name": "stdout",
     "output_type": "stream",
     "text": [
      "Epoch 0, Loss: 2.9561867203031267. Perplexity: 20.712846755981445\n"
     ]
    },
    {
     "name": "stderr",
     "output_type": "stream",
     "text": [
      "\n"
     ]
    },
    {
     "name": "stdout",
     "output_type": "stream",
     "text": [
      "Epoch 0, Perplexity: 14.191028594970703\n"
     ]
    },
    {
     "name": "stderr",
     "output_type": "stream",
     "text": [
      "100%|██████████| 406/406 [00:21<00:00, 18.53it/s]"
     ]
    },
    {
     "name": "stdout",
     "output_type": "stream",
     "text": [
      "Epoch 1, Loss: 2.5523153707898896. Perplexity: 12.865593910217285\n"
     ]
    },
    {
     "name": "stderr",
     "output_type": "stream",
     "text": [
      "\n"
     ]
    },
    {
     "name": "stdout",
     "output_type": "stream",
     "text": [
      "Epoch 1, Perplexity: 12.09753131866455\n"
     ]
    },
    {
     "name": "stderr",
     "output_type": "stream",
     "text": [
      "100%|██████████| 406/406 [00:27<00:00, 14.80it/s]"
     ]
    },
    {
     "name": "stdout",
     "output_type": "stream",
     "text": [
      "Epoch 2, Loss: 2.4161495939264155. Perplexity: 11.225293159484863\n"
     ]
    },
    {
     "name": "stderr",
     "output_type": "stream",
     "text": [
      "\n"
     ]
    },
    {
     "name": "stdout",
     "output_type": "stream",
     "text": [
      "Epoch 2, Perplexity: 10.70159912109375\n"
     ]
    },
    {
     "name": "stderr",
     "output_type": "stream",
     "text": [
      "100%|██████████| 406/406 [00:25<00:00, 15.94it/s]"
     ]
    },
    {
     "name": "stdout",
     "output_type": "stream",
     "text": [
      "Epoch 3, Loss: 2.3089663682900037. Perplexity: 10.085822105407715\n"
     ]
    },
    {
     "name": "stderr",
     "output_type": "stream",
     "text": [
      "\n"
     ]
    },
    {
     "name": "stdout",
     "output_type": "stream",
     "text": [
      "Epoch 3, Perplexity: 9.826714515686035\n"
     ]
    },
    {
     "name": "stderr",
     "output_type": "stream",
     "text": [
      "100%|██████████| 406/406 [00:22<00:00, 17.71it/s]"
     ]
    },
    {
     "name": "stdout",
     "output_type": "stream",
     "text": [
      "Epoch 4, Loss: 2.2287606905246604. Perplexity: 9.309048652648926\n"
     ]
    },
    {
     "name": "stderr",
     "output_type": "stream",
     "text": [
      "\n"
     ]
    },
    {
     "name": "stdout",
     "output_type": "stream",
     "text": [
      "Epoch 4, Perplexity: 9.243459701538086\n"
     ]
    },
    {
     "name": "stderr",
     "output_type": "stream",
     "text": [
      "100%|██████████| 406/406 [00:19<00:00, 20.60it/s]"
     ]
    },
    {
     "name": "stdout",
     "output_type": "stream",
     "text": [
      "Epoch 5, Loss: 2.1630666802082157. Perplexity: 8.716052055358887\n"
     ]
    },
    {
     "name": "stderr",
     "output_type": "stream",
     "text": [
      "\n"
     ]
    },
    {
     "name": "stdout",
     "output_type": "stream",
     "text": [
      "Epoch 5, Perplexity: 8.767358779907227\n"
     ]
    },
    {
     "name": "stderr",
     "output_type": "stream",
     "text": [
      "100%|██████████| 406/406 [00:18<00:00, 22.51it/s]"
     ]
    },
    {
     "name": "stdout",
     "output_type": "stream",
     "text": [
      "Epoch 6, Loss: 2.108605570981068. Perplexity: 8.254182815551758\n"
     ]
    },
    {
     "name": "stderr",
     "output_type": "stream",
     "text": [
      "\n"
     ]
    },
    {
     "name": "stdout",
     "output_type": "stream",
     "text": [
      "Epoch 6, Perplexity: 8.443750381469727\n"
     ]
    },
    {
     "name": "stderr",
     "output_type": "stream",
     "text": [
      "100%|██████████| 406/406 [00:27<00:00, 14.78it/s]"
     ]
    },
    {
     "name": "stdout",
     "output_type": "stream",
     "text": [
      "Epoch 7, Loss: 2.0592104933532003. Perplexity: 7.856718063354492\n"
     ]
    },
    {
     "name": "stderr",
     "output_type": "stream",
     "text": [
      "\n"
     ]
    },
    {
     "name": "stdout",
     "output_type": "stream",
     "text": [
      "Epoch 7, Perplexity: 8.18464469909668\n"
     ]
    },
    {
     "name": "stderr",
     "output_type": "stream",
     "text": [
      "100%|██████████| 406/406 [00:23<00:00, 17.02it/s]"
     ]
    },
    {
     "name": "stdout",
     "output_type": "stream",
     "text": [
      "Epoch 8, Loss: 2.013619153076792. Perplexity: 7.507370948791504\n"
     ]
    },
    {
     "name": "stderr",
     "output_type": "stream",
     "text": [
      "\n"
     ]
    },
    {
     "name": "stdout",
     "output_type": "stream",
     "text": [
      "Epoch 8, Perplexity: 7.998437881469727\n"
     ]
    },
    {
     "name": "stderr",
     "output_type": "stream",
     "text": [
      "100%|██████████| 406/406 [00:24<00:00, 16.29it/s]"
     ]
    },
    {
     "name": "stdout",
     "output_type": "stream",
     "text": [
      "Epoch 9, Loss: 1.9722777572758678. Perplexity: 7.2042317390441895\n"
     ]
    },
    {
     "name": "stderr",
     "output_type": "stream",
     "text": [
      "\n"
     ]
    },
    {
     "name": "stdout",
     "output_type": "stream",
     "text": [
      "Epoch 9, Perplexity: 7.800201416015625\n"
     ]
    },
    {
     "name": "stderr",
     "output_type": "stream",
     "text": [
      "100%|██████████| 406/406 [00:20<00:00, 19.51it/s]"
     ]
    },
    {
     "name": "stdout",
     "output_type": "stream",
     "text": [
      "Epoch 10, Loss: 1.9339860665974358. Perplexity: 6.936417579650879\n"
     ]
    },
    {
     "name": "stderr",
     "output_type": "stream",
     "text": [
      "\n"
     ]
    },
    {
     "name": "stdout",
     "output_type": "stream",
     "text": [
      "Epoch 10, Perplexity: 7.6798248291015625\n"
     ]
    },
    {
     "name": "stderr",
     "output_type": "stream",
     "text": [
      "100%|██████████| 406/406 [00:15<00:00, 25.91it/s]"
     ]
    },
    {
     "name": "stdout",
     "output_type": "stream",
     "text": [
      "Epoch 11, Loss: 1.9001127167288305. Perplexity: 6.7054057121276855\n"
     ]
    },
    {
     "name": "stderr",
     "output_type": "stream",
     "text": [
      "\n"
     ]
    },
    {
     "name": "stdout",
     "output_type": "stream",
     "text": [
      "Epoch 11, Perplexity: 7.594366073608398\n"
     ]
    },
    {
     "name": "stderr",
     "output_type": "stream",
     "text": [
      "100%|██████████| 406/406 [00:28<00:00, 14.17it/s]"
     ]
    },
    {
     "name": "stdout",
     "output_type": "stream",
     "text": [
      "Epoch 12, Loss: 1.8652320953425516. Perplexity: 6.4797468185424805\n"
     ]
    },
    {
     "name": "stderr",
     "output_type": "stream",
     "text": [
      "\n"
     ]
    },
    {
     "name": "stdout",
     "output_type": "stream",
     "text": [
      "Epoch 12, Perplexity: 7.43540620803833\n"
     ]
    },
    {
     "name": "stderr",
     "output_type": "stream",
     "text": [
      "100%|██████████| 406/406 [00:24<00:00, 16.28it/s]"
     ]
    },
    {
     "name": "stdout",
     "output_type": "stream",
     "text": [
      "Epoch 13, Loss: 1.8350238753069799. Perplexity: 6.281497001647949\n"
     ]
    },
    {
     "name": "stderr",
     "output_type": "stream",
     "text": [
      "\n"
     ]
    },
    {
     "name": "stdout",
     "output_type": "stream",
     "text": [
      "Epoch 13, Perplexity: 7.373400688171387\n"
     ]
    },
    {
     "name": "stderr",
     "output_type": "stream",
     "text": [
      "100%|██████████| 406/406 [00:25<00:00, 15.99it/s]"
     ]
    },
    {
     "name": "stdout",
     "output_type": "stream",
     "text": [
      "Epoch 14, Loss: 1.806905423479127. Perplexity: 6.110630035400391\n"
     ]
    },
    {
     "name": "stderr",
     "output_type": "stream",
     "text": [
      "\n"
     ]
    },
    {
     "name": "stdout",
     "output_type": "stream",
     "text": [
      "Epoch 14, Perplexity: 7.222459316253662\n"
     ]
    },
    {
     "name": "stderr",
     "output_type": "stream",
     "text": [
      "100%|██████████| 406/406 [00:27<00:00, 14.93it/s]"
     ]
    },
    {
     "name": "stdout",
     "output_type": "stream",
     "text": [
      "Epoch 15, Loss: 1.777012249225466. Perplexity: 5.932583332061768\n"
     ]
    },
    {
     "name": "stderr",
     "output_type": "stream",
     "text": [
      "\n"
     ]
    },
    {
     "name": "stdout",
     "output_type": "stream",
     "text": [
      "Epoch 15, Perplexity: 7.171804428100586\n"
     ]
    },
    {
     "name": "stderr",
     "output_type": "stream",
     "text": [
      "100%|██████████| 406/406 [00:16<00:00, 25.25it/s]"
     ]
    },
    {
     "name": "stdout",
     "output_type": "stream",
     "text": [
      "Epoch 16, Loss: 1.7515383210088231. Perplexity: 5.785363674163818\n"
     ]
    },
    {
     "name": "stderr",
     "output_type": "stream",
     "text": [
      "\n"
     ]
    },
    {
     "name": "stdout",
     "output_type": "stream",
     "text": [
      "Epoch 16, Perplexity: 7.130556583404541\n"
     ]
    },
    {
     "name": "stderr",
     "output_type": "stream",
     "text": [
      "100%|██████████| 406/406 [00:28<00:00, 14.01it/s]"
     ]
    },
    {
     "name": "stdout",
     "output_type": "stream",
     "text": [
      "Epoch 17, Loss: 1.7249711103040009. Perplexity: 5.632403373718262\n"
     ]
    },
    {
     "name": "stderr",
     "output_type": "stream",
     "text": [
      "\n"
     ]
    },
    {
     "name": "stdout",
     "output_type": "stream",
     "text": [
      "Epoch 17, Perplexity: 7.068100452423096\n"
     ]
    },
    {
     "name": "stderr",
     "output_type": "stream",
     "text": [
      "100%|██████████| 406/406 [00:25<00:00, 16.04it/s]"
     ]
    },
    {
     "name": "stdout",
     "output_type": "stream",
     "text": [
      "Epoch 18, Loss: 1.701616244069461. Perplexity: 5.501633644104004\n"
     ]
    },
    {
     "name": "stderr",
     "output_type": "stream",
     "text": [
      "\n"
     ]
    },
    {
     "name": "stdout",
     "output_type": "stream",
     "text": [
      "Epoch 18, Perplexity: 6.955383777618408\n"
     ]
    },
    {
     "name": "stderr",
     "output_type": "stream",
     "text": [
      "100%|██████████| 406/406 [00:23<00:00, 17.15it/s]"
     ]
    },
    {
     "name": "stdout",
     "output_type": "stream",
     "text": [
      "Epoch 19, Loss: 1.6785806126782459. Perplexity: 5.377406597137451\n"
     ]
    },
    {
     "name": "stderr",
     "output_type": "stream",
     "text": [
      "\n"
     ]
    },
    {
     "name": "stdout",
     "output_type": "stream",
     "text": [
      "Epoch 19, Perplexity: 6.962108612060547\n"
     ]
    },
    {
     "name": "stderr",
     "output_type": "stream",
     "text": [
      "100%|██████████| 406/406 [00:26<00:00, 15.47it/s]"
     ]
    },
    {
     "name": "stdout",
     "output_type": "stream",
     "text": [
      "Epoch 20, Loss: 1.6561433646479264. Perplexity: 5.25954532623291\n"
     ]
    },
    {
     "name": "stderr",
     "output_type": "stream",
     "text": [
      "\n"
     ]
    },
    {
     "name": "stdout",
     "output_type": "stream",
     "text": [
      "Epoch 20, Perplexity: 6.873007774353027\n"
     ]
    },
    {
     "name": "stderr",
     "output_type": "stream",
     "text": [
      "100%|██████████| 406/406 [00:16<00:00, 24.46it/s]"
     ]
    },
    {
     "name": "stdout",
     "output_type": "stream",
     "text": [
      "Epoch 21, Loss: 1.636376610236802. Perplexity: 5.1596999168396\n"
     ]
    },
    {
     "name": "stderr",
     "output_type": "stream",
     "text": [
      "\n"
     ]
    },
    {
     "name": "stdout",
     "output_type": "stream",
     "text": [
      "Epoch 21, Perplexity: 6.9594573974609375\n"
     ]
    },
    {
     "name": "stderr",
     "output_type": "stream",
     "text": [
      "100%|██████████| 406/406 [00:21<00:00, 18.72it/s]"
     ]
    },
    {
     "name": "stdout",
     "output_type": "stream",
     "text": [
      "Epoch 22, Loss: 1.6134605936228936. Perplexity: 5.044503688812256\n"
     ]
    },
    {
     "name": "stderr",
     "output_type": "stream",
     "text": [
      "\n"
     ]
    },
    {
     "name": "stdout",
     "output_type": "stream",
     "text": [
      "Epoch 22, Perplexity: 6.8333306312561035\n"
     ]
    },
    {
     "name": "stderr",
     "output_type": "stream",
     "text": [
      "100%|██████████| 406/406 [00:17<00:00, 23.49it/s]"
     ]
    },
    {
     "name": "stdout",
     "output_type": "stream",
     "text": [
      "Epoch 23, Loss: 1.5931941664277627. Perplexity: 4.94016695022583\n"
     ]
    },
    {
     "name": "stderr",
     "output_type": "stream",
     "text": [
      "\n"
     ]
    },
    {
     "name": "stdout",
     "output_type": "stream",
     "text": [
      "Epoch 23, Perplexity: 6.8889360427856445\n"
     ]
    },
    {
     "name": "stderr",
     "output_type": "stream",
     "text": [
      "100%|██████████| 406/406 [00:25<00:00, 15.63it/s]"
     ]
    },
    {
     "name": "stdout",
     "output_type": "stream",
     "text": [
      "Epoch 24, Loss: 1.5769376402418014. Perplexity: 4.862651348114014\n"
     ]
    },
    {
     "name": "stderr",
     "output_type": "stream",
     "text": [
      "\n"
     ]
    },
    {
     "name": "stdout",
     "output_type": "stream",
     "text": [
      "Epoch 24, Perplexity: 6.872344017028809\n"
     ]
    },
    {
     "name": "stderr",
     "output_type": "stream",
     "text": [
      "100%|██████████| 406/406 [00:23<00:00, 17.65it/s]"
     ]
    },
    {
     "name": "stdout",
     "output_type": "stream",
     "text": [
      "Epoch 25, Loss: 1.5564291089626368. Perplexity: 4.762004375457764\n"
     ]
    },
    {
     "name": "stderr",
     "output_type": "stream",
     "text": [
      "\n"
     ]
    },
    {
     "name": "stdout",
     "output_type": "stream",
     "text": [
      "Epoch 25, Perplexity: 6.879155158996582\n"
     ]
    },
    {
     "name": "stderr",
     "output_type": "stream",
     "text": [
      "100%|██████████| 406/406 [00:27<00:00, 14.51it/s]"
     ]
    },
    {
     "name": "stdout",
     "output_type": "stream",
     "text": [
      "Epoch 26, Loss: 1.5382934045321837. Perplexity: 4.678928375244141\n"
     ]
    },
    {
     "name": "stderr",
     "output_type": "stream",
     "text": [
      "\n"
     ]
    },
    {
     "name": "stdout",
     "output_type": "stream",
     "text": [
      "Epoch 26, Perplexity: 6.890265941619873\n"
     ]
    },
    {
     "name": "stderr",
     "output_type": "stream",
     "text": [
      "100%|██████████| 406/406 [00:25<00:00, 15.75it/s]"
     ]
    },
    {
     "name": "stdout",
     "output_type": "stream",
     "text": [
      "Epoch 27, Loss: 1.522401033951144. Perplexity: 4.607947826385498\n"
     ]
    },
    {
     "name": "stderr",
     "output_type": "stream",
     "text": [
      "\n"
     ]
    },
    {
     "name": "stdout",
     "output_type": "stream",
     "text": [
      "Epoch 27, Perplexity: 6.911620140075684\n"
     ]
    },
    {
     "name": "stderr",
     "output_type": "stream",
     "text": [
      "100%|██████████| 406/406 [00:18<00:00, 22.14it/s]"
     ]
    },
    {
     "name": "stdout",
     "output_type": "stream",
     "text": [
      "Epoch 28, Loss: 1.50383670165621. Perplexity: 4.5237908363342285\n"
     ]
    },
    {
     "name": "stderr",
     "output_type": "stream",
     "text": [
      "\n"
     ]
    },
    {
     "name": "stdout",
     "output_type": "stream",
     "text": [
      "Epoch 28, Perplexity: 6.888314723968506\n"
     ]
    },
    {
     "name": "stderr",
     "output_type": "stream",
     "text": [
      "100%|██████████| 406/406 [00:18<00:00, 21.54it/s]"
     ]
    },
    {
     "name": "stdout",
     "output_type": "stream",
     "text": [
      "Epoch 29, Loss: 1.488563416626653. Perplexity: 4.4520392417907715\n"
     ]
    },
    {
     "name": "stderr",
     "output_type": "stream",
     "text": [
      "\n"
     ]
    },
    {
     "name": "stdout",
     "output_type": "stream",
     "text": [
      "Epoch 29, Perplexity: 6.746181488037109\n"
     ]
    },
    {
     "name": "stderr",
     "output_type": "stream",
     "text": [
      "100%|██████████| 406/406 [00:22<00:00, 18.21it/s]"
     ]
    },
    {
     "name": "stdout",
     "output_type": "stream",
     "text": [
      "Epoch 30, Loss: 1.470814667899033. Perplexity: 4.377157688140869\n"
     ]
    },
    {
     "name": "stderr",
     "output_type": "stream",
     "text": [
      "\n"
     ]
    },
    {
     "name": "stdout",
     "output_type": "stream",
     "text": [
      "Epoch 30, Perplexity: 6.82507848739624\n"
     ]
    },
    {
     "name": "stderr",
     "output_type": "stream",
     "text": [
      "100%|██████████| 406/406 [00:29<00:00, 13.89it/s]"
     ]
    },
    {
     "name": "stdout",
     "output_type": "stream",
     "text": [
      "Epoch 31, Loss: 1.457991955902776. Perplexity: 4.321950912475586\n"
     ]
    },
    {
     "name": "stderr",
     "output_type": "stream",
     "text": [
      "\n"
     ]
    },
    {
     "name": "stdout",
     "output_type": "stream",
     "text": [
      "Epoch 31, Perplexity: 6.784969806671143\n"
     ]
    },
    {
     "name": "stderr",
     "output_type": "stream",
     "text": [
      "100%|██████████| 406/406 [00:25<00:00, 16.03it/s]"
     ]
    },
    {
     "name": "stdout",
     "output_type": "stream",
     "text": [
      "Epoch 32, Loss: 1.4419375608120057. Perplexity: 4.250251770019531\n"
     ]
    },
    {
     "name": "stderr",
     "output_type": "stream",
     "text": [
      "\n"
     ]
    },
    {
     "name": "stdout",
     "output_type": "stream",
     "text": [
      "Epoch 32, Perplexity: 6.749531269073486\n"
     ]
    },
    {
     "name": "stderr",
     "output_type": "stream",
     "text": [
      "100%|██████████| 406/406 [00:25<00:00, 16.14it/s]"
     ]
    },
    {
     "name": "stdout",
     "output_type": "stream",
     "text": [
      "Epoch 33, Loss: 1.428145604180585. Perplexity: 4.196100234985352\n"
     ]
    },
    {
     "name": "stderr",
     "output_type": "stream",
     "text": [
      "\n"
     ]
    },
    {
     "name": "stdout",
     "output_type": "stream",
     "text": [
      "Epoch 33, Perplexity: 6.756870746612549\n"
     ]
    },
    {
     "name": "stderr",
     "output_type": "stream",
     "text": [
      "100%|██████████| 406/406 [00:19<00:00, 20.55it/s]"
     ]
    },
    {
     "name": "stdout",
     "output_type": "stream",
     "text": [
      "Epoch 34, Loss: 1.4106588751224463. Perplexity: 4.123600482940674\n"
     ]
    },
    {
     "name": "stderr",
     "output_type": "stream",
     "text": [
      "\n"
     ]
    },
    {
     "name": "stdout",
     "output_type": "stream",
     "text": [
      "Epoch 34, Perplexity: 6.672250747680664\n"
     ]
    },
    {
     "name": "stderr",
     "output_type": "stream",
     "text": [
      "100%|██████████| 406/406 [00:17<00:00, 22.87it/s]"
     ]
    },
    {
     "name": "stdout",
     "output_type": "stream",
     "text": [
      "Epoch 35, Loss: 1.398298422984889. Perplexity: 4.071597099304199\n"
     ]
    },
    {
     "name": "stderr",
     "output_type": "stream",
     "text": [
      "\n"
     ]
    },
    {
     "name": "stdout",
     "output_type": "stream",
     "text": [
      "Epoch 35, Perplexity: 6.819494724273682\n"
     ]
    },
    {
     "name": "stderr",
     "output_type": "stream",
     "text": [
      "100%|██████████| 406/406 [00:28<00:00, 14.00it/s]"
     ]
    },
    {
     "name": "stdout",
     "output_type": "stream",
     "text": [
      "Epoch 36, Loss: 1.3861809447774747. Perplexity: 4.025391101837158\n"
     ]
    },
    {
     "name": "stderr",
     "output_type": "stream",
     "text": [
      "\n"
     ]
    },
    {
     "name": "stdout",
     "output_type": "stream",
     "text": [
      "Epoch 36, Perplexity: 6.788079261779785\n"
     ]
    },
    {
     "name": "stderr",
     "output_type": "stream",
     "text": [
      "100%|██████████| 406/406 [00:25<00:00, 16.05it/s]"
     ]
    },
    {
     "name": "stdout",
     "output_type": "stream",
     "text": [
      "Epoch 37, Loss: 1.3713003972481037. Perplexity: 3.9658703804016113\n"
     ]
    },
    {
     "name": "stderr",
     "output_type": "stream",
     "text": [
      "\n"
     ]
    },
    {
     "name": "stdout",
     "output_type": "stream",
     "text": [
      "Epoch 37, Perplexity: 6.738483905792236\n"
     ]
    },
    {
     "name": "stderr",
     "output_type": "stream",
     "text": [
      "100%|██████████| 406/406 [00:24<00:00, 16.81it/s]"
     ]
    },
    {
     "name": "stdout",
     "output_type": "stream",
     "text": [
      "Epoch 38, Loss: 1.3576361302084523. Perplexity: 3.907968282699585\n"
     ]
    },
    {
     "name": "stderr",
     "output_type": "stream",
     "text": [
      "\n"
     ]
    },
    {
     "name": "stdout",
     "output_type": "stream",
     "text": [
      "Epoch 38, Perplexity: 6.704293251037598\n"
     ]
    },
    {
     "name": "stderr",
     "output_type": "stream",
     "text": [
      "100%|██████████| 406/406 [00:24<00:00, 16.46it/s]"
     ]
    },
    {
     "name": "stdout",
     "output_type": "stream",
     "text": [
      "Epoch 39, Loss: 1.3417506077019452. Perplexity: 3.848212957382202\n"
     ]
    },
    {
     "name": "stderr",
     "output_type": "stream",
     "text": [
      "\n"
     ]
    },
    {
     "name": "stdout",
     "output_type": "stream",
     "text": [
      "Epoch 39, Perplexity: 6.82689094543457\n"
     ]
    },
    {
     "name": "stderr",
     "output_type": "stream",
     "text": [
      "100%|██████████| 406/406 [00:29<00:00, 13.68it/s]"
     ]
    },
    {
     "name": "stdout",
     "output_type": "stream",
     "text": [
      "Epoch 40, Loss: 1.3304864256252795. Perplexity: 3.8029208183288574\n"
     ]
    },
    {
     "name": "stderr",
     "output_type": "stream",
     "text": [
      "\n"
     ]
    },
    {
     "name": "stdout",
     "output_type": "stream",
     "text": [
      "Epoch 40, Perplexity: 6.866124153137207\n"
     ]
    },
    {
     "name": "stderr",
     "output_type": "stream",
     "text": [
      "100%|██████████| 406/406 [00:18<00:00, 21.74it/s]"
     ]
    },
    {
     "name": "stdout",
     "output_type": "stream",
     "text": [
      "Epoch 41, Loss: 1.3195770404902585. Perplexity: 3.7658164501190186\n"
     ]
    },
    {
     "name": "stderr",
     "output_type": "stream",
     "text": [
      "\n"
     ]
    },
    {
     "name": "stdout",
     "output_type": "stream",
     "text": [
      "Epoch 41, Perplexity: 6.860154151916504\n"
     ]
    },
    {
     "name": "stderr",
     "output_type": "stream",
     "text": [
      "100%|██████████| 406/406 [00:24<00:00, 16.83it/s]"
     ]
    },
    {
     "name": "stdout",
     "output_type": "stream",
     "text": [
      "Epoch 42, Loss: 1.306421245113382. Perplexity: 3.7165982723236084\n"
     ]
    },
    {
     "name": "stderr",
     "output_type": "stream",
     "text": [
      "\n"
     ]
    },
    {
     "name": "stdout",
     "output_type": "stream",
     "text": [
      "Epoch 42, Perplexity: 6.782435894012451\n"
     ]
    },
    {
     "name": "stderr",
     "output_type": "stream",
     "text": [
      "100%|██████████| 406/406 [00:22<00:00, 18.06it/s]"
     ]
    },
    {
     "name": "stdout",
     "output_type": "stream",
     "text": [
      "Epoch 43, Loss: 1.2957873734934577. Perplexity: 3.680039167404175\n"
     ]
    },
    {
     "name": "stderr",
     "output_type": "stream",
     "text": [
      "\n"
     ]
    },
    {
     "name": "stdout",
     "output_type": "stream",
     "text": [
      "Epoch 43, Perplexity: 6.960018157958984\n"
     ]
    },
    {
     "name": "stderr",
     "output_type": "stream",
     "text": [
      "100%|██████████| 406/406 [00:29<00:00, 13.68it/s]"
     ]
    },
    {
     "name": "stdout",
     "output_type": "stream",
     "text": [
      "Epoch 44, Loss: 1.2839759633752512. Perplexity: 3.633208751678467\n"
     ]
    },
    {
     "name": "stderr",
     "output_type": "stream",
     "text": [
      "\n"
     ]
    },
    {
     "name": "stdout",
     "output_type": "stream",
     "text": [
      "Epoch 44, Perplexity: 6.882451057434082\n"
     ]
    },
    {
     "name": "stderr",
     "output_type": "stream",
     "text": [
      "100%|██████████| 406/406 [00:26<00:00, 15.33it/s]"
     ]
    },
    {
     "name": "stdout",
     "output_type": "stream",
     "text": [
      "Epoch 45, Loss: 1.2723906714047117. Perplexity: 3.593231201171875\n"
     ]
    },
    {
     "name": "stderr",
     "output_type": "stream",
     "text": [
      "\n"
     ]
    },
    {
     "name": "stdout",
     "output_type": "stream",
     "text": [
      "Epoch 45, Perplexity: 6.796652317047119\n"
     ]
    },
    {
     "name": "stderr",
     "output_type": "stream",
     "text": [
      "100%|██████████| 406/406 [00:24<00:00, 16.67it/s]"
     ]
    },
    {
     "name": "stdout",
     "output_type": "stream",
     "text": [
      "Epoch 46, Loss: 1.2616531556756625. Perplexity: 3.5562310218811035\n"
     ]
    },
    {
     "name": "stderr",
     "output_type": "stream",
     "text": [
      "\n"
     ]
    },
    {
     "name": "stdout",
     "output_type": "stream",
     "text": [
      "Epoch 46, Perplexity: 6.9790358543396\n"
     ]
    },
    {
     "name": "stderr",
     "output_type": "stream",
     "text": [
      "100%|██████████| 406/406 [00:19<00:00, 21.34it/s]"
     ]
    },
    {
     "name": "stdout",
     "output_type": "stream",
     "text": [
      "Epoch 47, Loss: 1.2513558785316392. Perplexity: 3.519754648208618\n"
     ]
    },
    {
     "name": "stderr",
     "output_type": "stream",
     "text": [
      "\n"
     ]
    },
    {
     "name": "stdout",
     "output_type": "stream",
     "text": [
      "Epoch 47, Perplexity: 6.90679931640625\n"
     ]
    },
    {
     "name": "stderr",
     "output_type": "stream",
     "text": [
      "100%|██████████| 406/406 [00:18<00:00, 22.11it/s]"
     ]
    },
    {
     "name": "stdout",
     "output_type": "stream",
     "text": [
      "Epoch 48, Loss: 1.2372065035286794. Perplexity: 3.4669029712677\n"
     ]
    },
    {
     "name": "stderr",
     "output_type": "stream",
     "text": [
      "\n"
     ]
    },
    {
     "name": "stdout",
     "output_type": "stream",
     "text": [
      "Epoch 48, Perplexity: 7.122305870056152\n"
     ]
    },
    {
     "name": "stderr",
     "output_type": "stream",
     "text": [
      "100%|██████████| 406/406 [00:28<00:00, 14.20it/s]"
     ]
    },
    {
     "name": "stdout",
     "output_type": "stream",
     "text": [
      "Epoch 49, Loss: 1.2282776657877297. Perplexity: 3.436288356781006\n"
     ]
    },
    {
     "name": "stderr",
     "output_type": "stream",
     "text": [
      "\n"
     ]
    },
    {
     "name": "stdout",
     "output_type": "stream",
     "text": [
      "Epoch 49, Perplexity: 6.9892191886901855\n"
     ]
    },
    {
     "name": "stderr",
     "output_type": "stream",
     "text": [
      "100%|██████████| 406/406 [00:26<00:00, 15.37it/s]"
     ]
    },
    {
     "name": "stdout",
     "output_type": "stream",
     "text": [
      "Epoch 50, Loss: 1.2170238925024794. Perplexity: 3.3991029262542725\n"
     ]
    },
    {
     "name": "stderr",
     "output_type": "stream",
     "text": [
      "\n"
     ]
    },
    {
     "name": "stdout",
     "output_type": "stream",
     "text": [
      "Epoch 50, Perplexity: 6.94969367980957\n"
     ]
    },
    {
     "name": "stderr",
     "output_type": "stream",
     "text": [
      "100%|██████████| 406/406 [00:25<00:00, 15.95it/s]"
     ]
    },
    {
     "name": "stdout",
     "output_type": "stream",
     "text": [
      "Epoch 51, Loss: 1.2039206014771766. Perplexity: 3.3545024394989014\n"
     ]
    },
    {
     "name": "stderr",
     "output_type": "stream",
     "text": [
      "\n"
     ]
    },
    {
     "name": "stdout",
     "output_type": "stream",
     "text": [
      "Epoch 51, Perplexity: 7.0536346435546875\n"
     ]
    },
    {
     "name": "stderr",
     "output_type": "stream",
     "text": [
      "100%|██████████| 406/406 [00:26<00:00, 15.48it/s]"
     ]
    },
    {
     "name": "stdout",
     "output_type": "stream",
     "text": [
      "Epoch 52, Loss: 1.1939365495308278. Perplexity: 3.3238744735717773\n"
     ]
    },
    {
     "name": "stderr",
     "output_type": "stream",
     "text": [
      "\n"
     ]
    },
    {
     "name": "stdout",
     "output_type": "stream",
     "text": [
      "Epoch 52, Perplexity: 7.0693888664245605\n"
     ]
    },
    {
     "name": "stderr",
     "output_type": "stream",
     "text": [
      "100%|██████████| 406/406 [00:26<00:00, 15.09it/s]"
     ]
    },
    {
     "name": "stdout",
     "output_type": "stream",
     "text": [
      "Epoch 53, Loss: 1.1852187458517516. Perplexity: 3.293212890625\n"
     ]
    },
    {
     "name": "stderr",
     "output_type": "stream",
     "text": [
      "\n"
     ]
    },
    {
     "name": "stdout",
     "output_type": "stream",
     "text": [
      "Epoch 53, Perplexity: 7.175202369689941\n"
     ]
    },
    {
     "name": "stderr",
     "output_type": "stream",
     "text": [
      "100%|██████████| 406/406 [00:18<00:00, 22.12it/s]"
     ]
    },
    {
     "name": "stdout",
     "output_type": "stream",
     "text": [
      "Epoch 54, Loss: 1.174183238022433. Perplexity: 3.2579097747802734\n"
     ]
    },
    {
     "name": "stderr",
     "output_type": "stream",
     "text": [
      "\n"
     ]
    },
    {
     "name": "stdout",
     "output_type": "stream",
     "text": [
      "Epoch 54, Perplexity: 7.082006454467773\n"
     ]
    },
    {
     "name": "stderr",
     "output_type": "stream",
     "text": [
      "100%|██████████| 406/406 [00:21<00:00, 19.25it/s]"
     ]
    },
    {
     "name": "stdout",
     "output_type": "stream",
     "text": [
      "Epoch 55, Loss: 1.165878259489689. Perplexity: 3.2305595874786377\n"
     ]
    },
    {
     "name": "stderr",
     "output_type": "stream",
     "text": [
      "\n"
     ]
    },
    {
     "name": "stdout",
     "output_type": "stream",
     "text": [
      "Epoch 55, Perplexity: 7.154980659484863\n"
     ]
    },
    {
     "name": "stderr",
     "output_type": "stream",
     "text": [
      "100%|██████████| 406/406 [00:22<00:00, 18.20it/s]"
     ]
    },
    {
     "name": "stdout",
     "output_type": "stream",
     "text": [
      "Epoch 56, Loss: 1.1553306393141818. Perplexity: 3.1940977573394775\n"
     ]
    },
    {
     "name": "stderr",
     "output_type": "stream",
     "text": [
      "\n"
     ]
    },
    {
     "name": "stdout",
     "output_type": "stream",
     "text": [
      "Epoch 56, Perplexity: 7.1592793464660645\n"
     ]
    },
    {
     "name": "stderr",
     "output_type": "stream",
     "text": [
      "100%|██████████| 406/406 [00:27<00:00, 14.51it/s]"
     ]
    },
    {
     "name": "stdout",
     "output_type": "stream",
     "text": [
      "Epoch 57, Loss: 1.1467678229797063. Perplexity: 3.167281150817871\n"
     ]
    },
    {
     "name": "stderr",
     "output_type": "stream",
     "text": [
      "\n"
     ]
    },
    {
     "name": "stdout",
     "output_type": "stream",
     "text": [
      "Epoch 57, Perplexity: 7.1177287101745605\n"
     ]
    },
    {
     "name": "stderr",
     "output_type": "stream",
     "text": [
      "100%|██████████| 406/406 [00:26<00:00, 15.11it/s]\n"
     ]
    },
    {
     "name": "stdout",
     "output_type": "stream",
     "text": [
      "Epoch 58, Loss: 1.1373502763327707. Perplexity: 3.1354265213012695\n",
      "Epoch 58, Perplexity: 7.343008518218994\n"
     ]
    },
    {
     "name": "stderr",
     "output_type": "stream",
     "text": [
      "100%|██████████| 406/406 [00:25<00:00, 15.74it/s]"
     ]
    },
    {
     "name": "stdout",
     "output_type": "stream",
     "text": [
      "Epoch 59, Loss: 1.1237727778004896. Perplexity: 3.094055414199829\n"
     ]
    },
    {
     "name": "stderr",
     "output_type": "stream",
     "text": [
      "\n"
     ]
    },
    {
     "name": "stdout",
     "output_type": "stream",
     "text": [
      "Epoch 59, Perplexity: 7.316293239593506\n"
     ]
    },
    {
     "name": "stderr",
     "output_type": "stream",
     "text": [
      "100%|██████████| 406/406 [00:19<00:00, 21.06it/s]"
     ]
    },
    {
     "name": "stdout",
     "output_type": "stream",
     "text": [
      "Epoch 60, Loss: 1.1172458018575395. Perplexity: 3.073552370071411\n"
     ]
    },
    {
     "name": "stderr",
     "output_type": "stream",
     "text": [
      "\n"
     ]
    },
    {
     "name": "stdout",
     "output_type": "stream",
     "text": [
      "Epoch 60, Perplexity: 7.261166572570801\n"
     ]
    },
    {
     "name": "stderr",
     "output_type": "stream",
     "text": [
      "100%|██████████| 406/406 [00:21<00:00, 19.25it/s]"
     ]
    },
    {
     "name": "stdout",
     "output_type": "stream",
     "text": [
      "Epoch 61, Loss: 1.111494065358721. Perplexity: 3.057753086090088\n"
     ]
    },
    {
     "name": "stderr",
     "output_type": "stream",
     "text": [
      "\n"
     ]
    },
    {
     "name": "stdout",
     "output_type": "stream",
     "text": [
      "Epoch 61, Perplexity: 7.345310688018799\n"
     ]
    },
    {
     "name": "stderr",
     "output_type": "stream",
     "text": [
      "100%|██████████| 406/406 [00:29<00:00, 13.68it/s]"
     ]
    },
    {
     "name": "stdout",
     "output_type": "stream",
     "text": [
      "Epoch 62, Loss: 1.0995311568229658. Perplexity: 3.02054500579834\n"
     ]
    },
    {
     "name": "stderr",
     "output_type": "stream",
     "text": [
      "\n"
     ]
    },
    {
     "name": "stdout",
     "output_type": "stream",
     "text": [
      "Epoch 62, Perplexity: 7.434751033782959\n"
     ]
    },
    {
     "name": "stderr",
     "output_type": "stream",
     "text": [
      "100%|██████████| 406/406 [00:25<00:00, 15.79it/s]"
     ]
    },
    {
     "name": "stdout",
     "output_type": "stream",
     "text": [
      "Epoch 63, Loss: 1.0914475985348517. Perplexity: 2.996826171875\n"
     ]
    },
    {
     "name": "stderr",
     "output_type": "stream",
     "text": [
      "\n"
     ]
    },
    {
     "name": "stdout",
     "output_type": "stream",
     "text": [
      "Epoch 63, Perplexity: 7.515845775604248\n"
     ]
    },
    {
     "name": "stderr",
     "output_type": "stream",
     "text": [
      "100%|██████████| 406/406 [00:25<00:00, 15.70it/s]"
     ]
    },
    {
     "name": "stdout",
     "output_type": "stream",
     "text": [
      "Epoch 64, Loss: 1.0801730117774362. Perplexity: 2.964813232421875\n"
     ]
    },
    {
     "name": "stderr",
     "output_type": "stream",
     "text": [
      "\n"
     ]
    },
    {
     "name": "stdout",
     "output_type": "stream",
     "text": [
      "Epoch 64, Perplexity: 7.331608295440674\n"
     ]
    },
    {
     "name": "stderr",
     "output_type": "stream",
     "text": [
      "100%|██████████| 406/406 [00:25<00:00, 16.05it/s]"
     ]
    },
    {
     "name": "stdout",
     "output_type": "stream",
     "text": [
      "Epoch 65, Loss: 1.0726864734306711. Perplexity: 2.940985679626465\n"
     ]
    },
    {
     "name": "stderr",
     "output_type": "stream",
     "text": [
      "\n"
     ]
    },
    {
     "name": "stdout",
     "output_type": "stream",
     "text": [
      "Epoch 65, Perplexity: 7.748358726501465\n"
     ]
    },
    {
     "name": "stderr",
     "output_type": "stream",
     "text": [
      " 17%|█▋        | 70/406 [00:05<00:27, 12.42it/s]\n"
     ]
    },
    {
     "ename": "KeyboardInterrupt",
     "evalue": "",
     "output_type": "error",
     "traceback": [
      "\u001b[0;31m---------------------------------------------------------------------------\u001b[0m",
      "\u001b[0;31mKeyboardInterrupt\u001b[0m                         Traceback (most recent call last)",
      "\u001b[1;32m/workspace/notebooks/language_models.ipynb Cell 12\u001b[0m line \u001b[0;36m1\n\u001b[1;32m    <a href='vscode-notebook-cell://attached-container%2B7b22636f6e7461696e65724e616d65223a222f48545231227d@ssh-remote%2Bdoraemon.iuii.ua.es/workspace/notebooks/language_models.ipynb#X16sdnNjb2RlLXJlbW90ZQ%3D%3D?line=122'>123</a>\u001b[0m       \u001b[39mwith\u001b[39;00m \u001b[39mopen\u001b[39m(\u001b[39m\"\u001b[39m\u001b[39m../outputs/eval.txt\u001b[39m\u001b[39m\"\u001b[39m, \u001b[39m\"\u001b[39m\u001b[39ma\u001b[39m\u001b[39m\"\u001b[39m) \u001b[39mas\u001b[39;00m f:\n\u001b[1;32m    <a href='vscode-notebook-cell://attached-container%2B7b22636f6e7461696e65724e616d65223a222f48545231227d@ssh-remote%2Bdoraemon.iuii.ua.es/workspace/notebooks/language_models.ipynb#X16sdnNjb2RlLXJlbW90ZQ%3D%3D?line=123'>124</a>\u001b[0m         f\u001b[39m.\u001b[39mwrite(\u001b[39mf\u001b[39m\u001b[39m\"\u001b[39m\u001b[39mEpoch \u001b[39m\u001b[39m{\u001b[39;00mepoch\u001b[39m}\u001b[39;00m\u001b[39m, Perplexity: \u001b[39m\u001b[39m{\u001b[39;00mtotal_ppl\u001b[39m/\u001b[39m\u001b[39mlen\u001b[39m(eval_dl)\u001b[39m}\u001b[39;00m\u001b[39m\\n\u001b[39;00m\u001b[39m\\n\u001b[39;00m\u001b[39m\\n\u001b[39;00m\u001b[39m\"\u001b[39m)\n\u001b[0;32m--> <a href='vscode-notebook-cell://attached-container%2B7b22636f6e7461696e65724e616d65223a222f48545231227d@ssh-remote%2Bdoraemon.iuii.ua.es/workspace/notebooks/language_models.ipynb#X16sdnNjb2RlLXJlbW90ZQ%3D%3D?line=126'>127</a>\u001b[0m train_lm(dl_train, dl_val, \u001b[39m100\u001b[39;49m)\n",
      "\u001b[1;32m/workspace/notebooks/language_models.ipynb Cell 12\u001b[0m line \u001b[0;36m7\n\u001b[1;32m     <a href='vscode-notebook-cell://attached-container%2B7b22636f6e7461696e65724e616d65223a222f48545231227d@ssh-remote%2Bdoraemon.iuii.ua.es/workspace/notebooks/language_models.ipynb#X16sdnNjb2RlLXJlbW90ZQ%3D%3D?line=74'>75</a>\u001b[0m total_loss_train \u001b[39m+\u001b[39m\u001b[39m=\u001b[39m loss\u001b[39m.\u001b[39mitem()\n\u001b[1;32m     <a href='vscode-notebook-cell://attached-container%2B7b22636f6e7461696e65724e616d65223a222f48545231227d@ssh-remote%2Bdoraemon.iuii.ua.es/workspace/notebooks/language_models.ipynb#X16sdnNjb2RlLXJlbW90ZQ%3D%3D?line=75'>76</a>\u001b[0m total_ppl_train \u001b[39m+\u001b[39m\u001b[39m=\u001b[39m torch\u001b[39m.\u001b[39mexp(loss)\n\u001b[0;32m---> <a href='vscode-notebook-cell://attached-container%2B7b22636f6e7461696e65724e616d65223a222f48545231227d@ssh-remote%2Bdoraemon.iuii.ua.es/workspace/notebooks/language_models.ipynb#X16sdnNjb2RlLXJlbW90ZQ%3D%3D?line=76'>77</a>\u001b[0m loss\u001b[39m.\u001b[39;49mbackward()\n\u001b[1;32m     <a href='vscode-notebook-cell://attached-container%2B7b22636f6e7461696e65724e616d65223a222f48545231227d@ssh-remote%2Bdoraemon.iuii.ua.es/workspace/notebooks/language_models.ipynb#X16sdnNjb2RlLXJlbW90ZQ%3D%3D?line=77'>78</a>\u001b[0m optimizer\u001b[39m.\u001b[39mstep()\n\u001b[1;32m     <a href='vscode-notebook-cell://attached-container%2B7b22636f6e7461696e65724e616d65223a222f48545231227d@ssh-remote%2Bdoraemon.iuii.ua.es/workspace/notebooks/language_models.ipynb#X16sdnNjb2RlLXJlbW90ZQ%3D%3D?line=78'>79</a>\u001b[0m optimizer\u001b[39m.\u001b[39mzero_grad()\n",
      "File \u001b[0;32m/usr/local/lib/python3.10/dist-packages/torch/_tensor.py:521\u001b[0m, in \u001b[0;36mTensor.backward\u001b[0;34m(self, gradient, retain_graph, create_graph, inputs)\u001b[0m\n\u001b[1;32m    511\u001b[0m \u001b[39mif\u001b[39;00m has_torch_function_unary(\u001b[39mself\u001b[39m):\n\u001b[1;32m    512\u001b[0m     \u001b[39mreturn\u001b[39;00m handle_torch_function(\n\u001b[1;32m    513\u001b[0m         Tensor\u001b[39m.\u001b[39mbackward,\n\u001b[1;32m    514\u001b[0m         (\u001b[39mself\u001b[39m,),\n\u001b[0;32m   (...)\u001b[0m\n\u001b[1;32m    519\u001b[0m         inputs\u001b[39m=\u001b[39minputs,\n\u001b[1;32m    520\u001b[0m     )\n\u001b[0;32m--> 521\u001b[0m torch\u001b[39m.\u001b[39;49mautograd\u001b[39m.\u001b[39;49mbackward(\n\u001b[1;32m    522\u001b[0m     \u001b[39mself\u001b[39;49m, gradient, retain_graph, create_graph, inputs\u001b[39m=\u001b[39;49minputs\n\u001b[1;32m    523\u001b[0m )\n",
      "File \u001b[0;32m/usr/local/lib/python3.10/dist-packages/torch/autograd/__init__.py:289\u001b[0m, in \u001b[0;36mbackward\u001b[0;34m(tensors, grad_tensors, retain_graph, create_graph, grad_variables, inputs)\u001b[0m\n\u001b[1;32m    284\u001b[0m     retain_graph \u001b[39m=\u001b[39m create_graph\n\u001b[1;32m    286\u001b[0m \u001b[39m# The reason we repeat the same comment below is that\u001b[39;00m\n\u001b[1;32m    287\u001b[0m \u001b[39m# some Python versions print out the first line of a multi-line function\u001b[39;00m\n\u001b[1;32m    288\u001b[0m \u001b[39m# calls in the traceback and some print out the last line\u001b[39;00m\n\u001b[0;32m--> 289\u001b[0m _engine_run_backward(\n\u001b[1;32m    290\u001b[0m     tensors,\n\u001b[1;32m    291\u001b[0m     grad_tensors_,\n\u001b[1;32m    292\u001b[0m     retain_graph,\n\u001b[1;32m    293\u001b[0m     create_graph,\n\u001b[1;32m    294\u001b[0m     inputs,\n\u001b[1;32m    295\u001b[0m     allow_unreachable\u001b[39m=\u001b[39;49m\u001b[39mTrue\u001b[39;49;00m,\n\u001b[1;32m    296\u001b[0m     accumulate_grad\u001b[39m=\u001b[39;49m\u001b[39mTrue\u001b[39;49;00m,\n\u001b[1;32m    297\u001b[0m )\n",
      "File \u001b[0;32m/usr/local/lib/python3.10/dist-packages/torch/autograd/graph.py:769\u001b[0m, in \u001b[0;36m_engine_run_backward\u001b[0;34m(t_outputs, *args, **kwargs)\u001b[0m\n\u001b[1;32m    767\u001b[0m     unregister_hooks \u001b[39m=\u001b[39m _register_logging_hooks_on_whole_graph(t_outputs)\n\u001b[1;32m    768\u001b[0m \u001b[39mtry\u001b[39;00m:\n\u001b[0;32m--> 769\u001b[0m     \u001b[39mreturn\u001b[39;00m Variable\u001b[39m.\u001b[39;49m_execution_engine\u001b[39m.\u001b[39;49mrun_backward(  \u001b[39m# Calls into the C++ engine to run the backward pass\u001b[39;49;00m\n\u001b[1;32m    770\u001b[0m         t_outputs, \u001b[39m*\u001b[39;49margs, \u001b[39m*\u001b[39;49m\u001b[39m*\u001b[39;49mkwargs\n\u001b[1;32m    771\u001b[0m     )  \u001b[39m# Calls into the C++ engine to run the backward pass\u001b[39;00m\n\u001b[1;32m    772\u001b[0m \u001b[39mfinally\u001b[39;00m:\n\u001b[1;32m    773\u001b[0m     \u001b[39mif\u001b[39;00m attach_logging_hooks:\n",
      "\u001b[0;31mKeyboardInterrupt\u001b[0m: "
     ]
    }
   ],
   "source": [
    "# Train the model to iterate over the dataset and train the model\n",
    "\n",
    "# Train the model\n",
    "from tqdm import tqdm\n",
    "\n",
    "dl_train = read_dataset(\"../data/htr_datasets/IAM/IAM_lines/\", \"../data/htr_datasets/IAM/IAM_xml/\", \"../data/htr_datasets/IAM/splits/train.txt\", src.data.data_utils.read_data_IAM, tokenizer, batch_size=16,\n",
    "                        transform=v2.Compose([v2.ToTensor()]))\n",
    "dl_val = read_dataset(\"../data/htr_datasets/IAM/IAM_lines/\", \"../data/htr_datasets/IAM/IAM_xml/\", \"../data/htr_datasets/IAM/splits/val.txt\", src.data.data_utils.read_data_IAM, tokenizer, batch_size=16,\n",
    "                      transform=v2.Compose([v2.ToTensor()]))\n",
    "\n",
    "criterion = torch.nn.CrossEntropyLoss(ignore_index=tokenizer.pad_id)\n",
    "optimizer = torch.optim.Adam(model.parameters(), lr=1e-4)\n",
    "\n",
    "model.to(\"cuda\")\n",
    "\n",
    "# Reinitialize the weights of the model randomly\n",
    "# def weights_init(m):\n",
    "#   if isinstance(m, torch.nn.Linear):\n",
    "#     torch.nn.init.xavier_normal_(m.weight)\n",
    "#     torch.nn.init.zeros_(m.bias)\n",
    "\n",
    "def generate(model, tokenizer, num_sequences, max_length=100):\n",
    "  model.eval()\n",
    "  \n",
    "  sequences = torch.ones(num_sequences, 1).long().to(\"cuda\") * tokenizer.bos_id\n",
    "  first_k_tokens_prob = model(sequences).logits[:, -1].topk(num_sequences)\n",
    "  # print(f'Sequences shape: {sequences.shape}')\n",
    "  # print(f'First k tokens prob: {first_k_tokens_prob.indices[0]}')\n",
    "  \n",
    "  sequences = torch.cat([sequences, first_k_tokens_prob.indices[0].unsqueeze(0).transpose(1,0)], dim=-1)\n",
    "  \n",
    "  # print(f'First sequences: {sequences}')\n",
    "  \n",
    "  with torch.no_grad():\n",
    "    for i in range(max_length):\n",
    "      outputs = model(sequences).logits\n",
    "      next_token = outputs[:, -1].argmax(-1)\n",
    "      # Get the num_sequences most probable next tokens\n",
    "      sequences = torch.cat([sequences, next_token.unsqueeze(-1)], dim=-1)\n",
    "      \n",
    "  return sequences\n",
    "      \n",
    "      \n",
    "generated_output = generate(model, tokenizer, 2, max_length=100)\n",
    "print(f'generated_output: {generated_output}')\n",
    "\n",
    "for seq in generated_output:\n",
    "  seq = seq.cpu().numpy().tolist()\n",
    "  print(tokenizer.detokenize(seq))\n",
    "  \n",
    "\n",
    "def train_lm(train_dl, eval_dl, epochs):\n",
    "  for epoch in range(epochs):\n",
    "    model.train()\n",
    "    total_loss_train, total_ppl_train = 0.0, 0.0\n",
    "    for i, batch in enumerate(tqdm(train_dl)):\n",
    "      images, targets = batch[0], batch[1]\n",
    "      images = images.to(\"cuda\")\n",
    "      targets = targets.to(\"cuda\")\n",
    "      targets = targets.permute(1,0)\n",
    "      labels = targets[:, 1:].clone().contiguous()\n",
    "      # print(targets.shape, labels.shape)\n",
    "      outputs = model(targets).logits\n",
    "      outputs = outputs[:, :-1].contiguous()\n",
    "\n",
    "      # For trianing debugging\n",
    "      # for j, (label, out) in enumerate(zip(labels, outputs)):\n",
    "      #     # print(f'out: {out}')\n",
    "      #     out = out.argmax(-1)\n",
    "      #     out_dec = tokenizer.detokenize(out.detach().cpu().numpy().tolist())\n",
    "      #     label_dec = tokenizer.detokenize(label.detach().cpu().numpy().tolist())\n",
    "      #     # print(f'Train: Label: {label_dec}===output:{out_dec}')\n",
    "          \n",
    "      loss = criterion(outputs.reshape(-1, outputs.size(-1)), labels.reshape(-1))\n",
    "      total_loss_train += loss.item()\n",
    "      total_ppl_train += torch.exp(loss)\n",
    "      loss.backward()\n",
    "      optimizer.step()\n",
    "      optimizer.zero_grad()\n",
    "      # if i % 100 == 0:\n",
    "      #   print(f\"Epoch {epoch}, Loss: {loss.item()}\")\n",
    "      \n",
    "    print(f\"Epoch {epoch}, Loss: {total_loss_train/len(train_dl)}. Perplexity: {total_ppl_train/len(train_dl)}\")\n",
    "        \n",
    "    # Evaluate\n",
    "    model.eval()\n",
    "    with torch.no_grad():\n",
    "      # Write in a output/eval.txt file\n",
    "      with open(\"../outputs/eval.txt\", \"a\") as f:\n",
    "        f.write(f\"Epoch {epoch}\\n\")\n",
    "        \n",
    "      total_ppl = 0.0\n",
    "      for i, batch in enumerate(eval_dl):\n",
    "        images, targets = batch[0], batch[1]\n",
    "        images = images.to(\"cuda\")\n",
    "        targets = targets.to(\"cuda\")\n",
    "        targets = targets.permute(1,0)\n",
    "        labels = targets[:, 1:].clone().contiguous()\n",
    "        outputs = model(targets).logits\n",
    "        outputs = outputs[:, :-1].contiguous()\n",
    "        loss = criterion(outputs.reshape(-1, outputs.size(-1)), labels.reshape(-1))\n",
    "        # loss = criterion(outputs.reshape(-1, outputs.size(-1)), labels.reshape(-1))\n",
    "        # print(f'Perplexity: {torch.exp(loss)}')\n",
    "        total_ppl += torch.exp(loss)\n",
    "        \n",
    "        with open(\"../outputs/eval.txt\", \"a\") as f:\n",
    "          f.write(f'Perplexity: {torch.exp(loss)}\\n')\n",
    "        for j, (label, out) in enumerate(zip(labels, outputs)):\n",
    "          # print(f'out: {out}')\n",
    "          out = out.argmax(-1)\n",
    "          out_dec = tokenizer.detokenize(out.detach().cpu().numpy().tolist())\n",
    "          label_dec = tokenizer.detokenize(label.detach().cpu().numpy().tolist())\n",
    "          # print(out_dec)\n",
    "          # Write in a ../outputs/eval.txt file\n",
    "          with open(\"../outputs/eval.txt\", \"a\") as f:\n",
    "            f.write(f'Label: {label_dec}===output:{out_dec}\\n')\n",
    "            \n",
    "          if i == 10:\n",
    "            break\n",
    "\n",
    "      print(f\"Epoch {epoch}, Perplexity: {total_ppl/len(eval_dl)}\")\n",
    "      \n",
    "      with open(\"../outputs/eval.txt\", \"a\") as f:\n",
    "        f.write(f\"Epoch {epoch}, Perplexity: {total_ppl/len(eval_dl)}\\n\\n\\n\")\n",
    "        \n",
    "      \n",
    "train_lm(dl_train, dl_val, 100)\n"
   ]
  },
  {
   "cell_type": "code",
   "execution_count": 210,
   "metadata": {},
   "outputs": [],
   "source": [
    "# Save the model to disk\n",
    "torch.save(model.state_dict(), \"../checkpoints/lm_model_iam.ckpt\")"
   ]
  },
  {
   "cell_type": "code",
   "execution_count": 43,
   "metadata": {},
   "outputs": [
    {
     "name": "stdout",
     "output_type": "stream",
     "text": [
      "GPT2LMHeadModel(\n",
      "  (transformer): GPT2Model(\n",
      "    (wte): Embedding(94, 128)\n",
      "    (wpe): Embedding(1024, 128)\n",
      "    (drop): Dropout(p=0.1, inplace=False)\n",
      "    (h): ModuleList(\n",
      "      (0-11): 12 x GPT2Block(\n",
      "        (ln_1): LayerNorm((128,), eps=1e-05, elementwise_affine=True)\n",
      "        (attn): GPT2SdpaAttention(\n",
      "          (c_attn): Conv1D()\n",
      "          (c_proj): Conv1D()\n",
      "          (attn_dropout): Dropout(p=0.1, inplace=False)\n",
      "          (resid_dropout): Dropout(p=0.1, inplace=False)\n",
      "        )\n",
      "        (ln_2): LayerNorm((128,), eps=1e-05, elementwise_affine=True)\n",
      "        (mlp): GPT2MLP(\n",
      "          (c_fc): Conv1D()\n",
      "          (c_proj): Conv1D()\n",
      "          (act): NewGELUActivation()\n",
      "          (dropout): Dropout(p=0.1, inplace=False)\n",
      "        )\n",
      "      )\n",
      "    )\n",
      "    (ln_f): LayerNorm((128,), eps=1e-05, elementwise_affine=True)\n",
      "  )\n",
      "  (lm_head): Linear(in_features=128, out_features=94, bias=False)\n",
      ")\n"
     ]
    },
    {
     "name": "stderr",
     "output_type": "stream",
     "text": [
      "/tmp/ipykernel_919312/900105359.py:3: FutureWarning: You are using `torch.load` with `weights_only=False` (the current default value), which uses the default pickle module implicitly. It is possible to construct malicious pickle data which will execute arbitrary code during unpickling (See https://github.com/pytorch/pytorch/blob/main/SECURITY.md#untrusted-models for more details). In a future release, the default value for `weights_only` will be flipped to `True`. This limits the functions that could be executed during unpickling. Arbitrary objects will no longer be allowed to be loaded via this mode unless they are explicitly allowlisted by the user via `torch.serialization.add_safe_globals`. We recommend you start setting `weights_only=True` for any use case where you don't have full control of the loaded file. Please open an issue on GitHub for any issues related to this experimental feature.\n",
      "  model.load_state_dict(torch.load(\"../checkpoints/lm_model_iam.ckpt\"))\n"
     ]
    }
   ],
   "source": [
    "# Load the model from disk\n",
    "model = GPT2LMHeadModel(config)\n",
    "model.load_state_dict(torch.load(\"../checkpoints/lm_model_iam.ckpt\"))\n",
    "model.to(\"cuda\")\n",
    "model.eval()\n",
    "print(model)"
   ]
  },
  {
   "cell_type": "code",
   "execution_count": 44,
   "metadata": {},
   "outputs": [
    {
     "name": "stdout",
     "output_type": "stream",
     "text": [
      "tensor([[43],\n",
      "        [81],\n",
      "        [72],\n",
      "        [82],\n",
      "        [71],\n",
      "        [ 4],\n",
      "        [38],\n",
      "        [68],\n",
      "        [65],\n",
      "        [68],\n",
      "        [77],\n",
      "        [83],\n",
      "        [84],\n",
      "        [81],\n",
      "        [68],\n",
      "        [82],\n",
      "        [ 4],\n",
      "        [15],\n",
      "        [ 4],\n",
      "        [64],\n",
      "        [77],\n",
      "        [67],\n",
      "        [ 4],\n",
      "        [83],\n",
      "        [71],\n",
      "        [68],\n",
      "        [ 4],\n",
      "        [77],\n",
      "        [78],\n",
      "        [86],\n",
      "        [ 4],\n",
      "        [67],\n",
      "        [72],\n",
      "        [82],\n",
      "        [84],\n",
      "        [82],\n",
      "        [68],\n",
      "        [67],\n",
      "        [ 4],\n",
      "        [48],\n",
      "        [64],\n",
      "        [85],\n",
      "        [88],\n",
      "        [ 4],\n",
      "        [56],\n",
      "        [72],\n",
      "        [66],\n",
      "        [83],\n",
      "        [84],\n",
      "        [16]], device='cuda:0')\n",
      "torch.Size([49, 1, 94]) torch.Size([49, 1])\n",
      "Perplexity: 66.32489013671875\n"
     ]
    }
   ],
   "source": [
    "# Calculate perplexity for a enench sequence like \n",
    "\n",
    "bentham_seq = \"Irish Debentures , and the now disused Navy Victu-\"\n",
    "bentham_seq = torch.tensor(tokenizer.encode(bentham_seq)).to(\"cuda\").unsqueeze(1)\n",
    "print(bentham_seq)\n",
    "\n",
    "# bentham_seq = torch.tensor(tokenizer.encode(bentham_seq))#.unsqueeze(1).to(\"cuda\")\n",
    "\n",
    "outputs = model(bentham_seq).logits\n",
    "# print(outputs.shape)\n",
    "\n",
    "# # Calculate perplexity\n",
    "criterion = torch.nn.CrossEntropyLoss(ignore_index=tokenizer.pad_id)\n",
    "\n",
    "labels = bentham_seq[1:].clone().contiguous()\n",
    "outputs = outputs[:-1, ].contiguous()\n",
    "\n",
    "print(outputs.shape, labels.shape)\n",
    "# outputs = outputs[:, :-1].contiguous()\n",
    "\n",
    "loss = criterion(outputs.reshape(-1, outputs.size(-1)), labels.reshape(-1))\n",
    "print(f'Perplexity: {torch.exp(loss)}')\n"
   ]
  },
  {
   "cell_type": "code",
   "execution_count": 178,
   "metadata": {},
   "outputs": [
    {
     "name": "stdout",
     "output_type": "stream",
     "text": [
      "tensor([[67],\n",
      "        [10],\n",
      "        [64],\n",
      "        [66],\n",
      "        [66],\n",
      "        [68],\n",
      "        [79],\n",
      "        [83],\n",
      "        [68],\n",
      "        [81],\n",
      "        [ 4],\n",
      "        [75],\n",
      "        [10],\n",
      "        [68],\n",
      "        [87],\n",
      "        [79],\n",
      "        [81],\n",
      "        [68],\n",
      "        [82],\n",
      "        [82],\n",
      "        [72],\n",
      "        [78],\n",
      "        [77],\n",
      "        [ 4],\n",
      "        [67],\n",
      "        [68],\n",
      "        [ 4],\n",
      "        [76],\n",
      "        [68],\n",
      "        [82],\n",
      "        [ 4],\n",
      "        [82],\n",
      "        [64],\n",
      "        [75],\n",
      "        [84],\n",
      "        [83],\n",
      "        [64],\n",
      "        [83],\n",
      "        [72],\n",
      "        [78],\n",
      "        [77],\n",
      "        [82],\n",
      "        [ 4],\n",
      "        [67],\n",
      "        [72],\n",
      "        [82],\n",
      "        [83],\n",
      "        [72],\n",
      "        [77],\n",
      "        [70],\n",
      "        [84],\n",
      "        [68],\n",
      "        [68],\n",
      "        [82],\n",
      "        [17]], device='cuda:0')\n",
      "torch.Size([54, 1, 94]) torch.Size([54, 1])\n",
      "Perplexity: 66.42237091064453\n"
     ]
    }
   ],
   "source": [
    "# Calculate perplexity for a french sequence like \n",
    "\n",
    "fr_seq = \"d'accepter l'expression de mes salutations distinguées.\"\n",
    "fr_seq = torch.tensor(tokenizer.encode(fr_seq)).to(\"cuda\").unsqueeze(1)\n",
    "print(fr_seq)\n",
    "\n",
    "# fr_seq = torch.tensor(tokenizer.encode(fr_seq))#.unsqueeze(1).to(\"cuda\")\n",
    "\n",
    "outputs = model(fr_seq).logits\n",
    "# print(outputs.shape)\n",
    "\n",
    "# # Calculate perplexity\n",
    "criterion = torch.nn.CrossEntropyLoss(ignore_index=tokenizer.pad_id)\n",
    "\n",
    "labels = fr_seq[1:].clone().contiguous()\n",
    "outputs = outputs[:-1, ].contiguous()\n",
    "\n",
    "print(outputs.shape, labels.shape)\n",
    "# outputs = outputs[:, :-1].contiguous()\n",
    "\n",
    "loss = criterion(outputs.reshape(-1, outputs.size(-1)), labels.reshape(-1))\n",
    "print(f'Perplexity: {torch.exp(loss)}')\n"
   ]
  },
  {
   "cell_type": "code",
   "execution_count": 180,
   "metadata": {},
   "outputs": [
    {
     "name": "stdout",
     "output_type": "stream",
     "text": [
      "tensor([[43],\n",
      "        [81],\n",
      "        [72],\n",
      "        [82],\n",
      "        [71],\n",
      "        [ 4],\n",
      "        [38],\n",
      "        [68],\n",
      "        [65],\n",
      "        [68],\n",
      "        [77],\n",
      "        [83],\n",
      "        [84],\n",
      "        [81],\n",
      "        [68],\n",
      "        [82],\n",
      "        [ 4],\n",
      "        [15],\n",
      "        [ 4],\n",
      "        [64],\n",
      "        [77],\n",
      "        [67],\n",
      "        [ 4],\n",
      "        [83],\n",
      "        [71],\n",
      "        [68],\n",
      "        [ 4],\n",
      "        [77],\n",
      "        [78],\n",
      "        [86],\n",
      "        [ 4],\n",
      "        [67],\n",
      "        [72],\n",
      "        [82],\n",
      "        [84],\n",
      "        [82],\n",
      "        [68],\n",
      "        [67],\n",
      "        [ 4],\n",
      "        [48],\n",
      "        [64],\n",
      "        [85],\n",
      "        [88],\n",
      "        [ 4],\n",
      "        [56],\n",
      "        [72],\n",
      "        [66],\n",
      "        [83],\n",
      "        [84],\n",
      "        [16]], device='cuda:0')\n",
      "torch.Size([49, 1, 94]) torch.Size([49, 1])\n",
      "Perplexity: 62.58920669555664\n"
     ]
    }
   ],
   "source": [
    "# Calculate perplexity for a enench sequence like \n",
    "\n",
    "bentham_seq = \"Irish Debentures , and the now disused Navy Victu-\"\n",
    "bentham_seq = torch.tensor(tokenizer.encode(bentham_seq)).to(\"cuda\").unsqueeze(1)\n",
    "print(bentham_seq)\n",
    "\n",
    "# bentham_seq = torch.tensor(tokenizer.encode(bentham_seq))#.unsqueeze(1).to(\"cuda\")\n",
    "\n",
    "outputs = model(bentham_seq).logits\n",
    "# print(outputs.shape)\n",
    "\n",
    "# # Calculate perplexity\n",
    "criterion = torch.nn.CrossEntropyLoss(ignore_index=tokenizer.pad_id)\n",
    "\n",
    "labels = bentham_seq[1:].clone().contiguous()\n",
    "outputs = outputs[:-1, ].contiguous()\n",
    "\n",
    "print(outputs.shape, labels.shape)\n",
    "# outputs = outputs[:, :-1].contiguous()\n",
    "\n",
    "loss = criterion(outputs.reshape(-1, outputs.size(-1)), labels.reshape(-1))\n",
    "print(f'Perplexity: {torch.exp(loss)}')\n"
   ]
  },
  {
   "cell_type": "code",
   "execution_count": 13,
   "metadata": {},
   "outputs": [],
   "source": [
    "def calculate_ppl(model, dl, criterion):\n",
    "  total_ppl = 0.0\n",
    "  with torch.no_grad():\n",
    "    for i, batch in enumerate(dl):\n",
    "      images, targets = batch[0], batch[1]\n",
    "      images = images.to(\"cuda\")\n",
    "      targets = targets.to(\"cuda\")\n",
    "      targets = targets.permute(1,0)\n",
    "      labels = targets[:, 1:].clone().contiguous()\n",
    "      outputs = model(targets).logits\n",
    "      outputs = outputs[:, :-1].contiguous()\n",
    "      loss = criterion(outputs.reshape(-1, outputs.size(-1)), labels.reshape(-1))\n",
    "      total_ppl += torch.exp(loss)\n",
    "      \n",
    "  return total_ppl\n",
    "  "
   ]
  },
  {
   "cell_type": "code",
   "execution_count": 39,
   "metadata": {},
   "outputs": [
    {
     "ename": "RuntimeError",
     "evalue": "Input type (long int) and bias type (float) should be the same",
     "output_type": "error",
     "traceback": [
      "\u001b[0;31m---------------------------------------------------------------------------\u001b[0m",
      "\u001b[0;31mRuntimeError\u001b[0m                              Traceback (most recent call last)",
      "\u001b[1;32m/workspace/notebooks/language_models.ipynb Cell 20\u001b[0m line \u001b[0;36m5\n\u001b[1;32m      <a href='vscode-notebook-cell://attached-container%2B7b22636f6e7461696e65724e616d65223a222f48545231227d@ssh-remote%2Bdoraemon.iuii.ua.es/workspace/notebooks/language_models.ipynb#X22sdnNjb2RlLXJlbW90ZQ%3D%3D?line=0'>1</a>\u001b[0m dl_iam_test \u001b[39m=\u001b[39m read_dataset(\u001b[39m\"\u001b[39m\u001b[39m../data/htr_datasets/IAM/IAM_lines/\u001b[39m\u001b[39m\"\u001b[39m, \u001b[39m\"\u001b[39m\u001b[39m../data/htr_datasets/IAM/IAM_xml/\u001b[39m\u001b[39m\"\u001b[39m, \u001b[39m\"\u001b[39m\u001b[39m../data/htr_datasets/IAM/splits/test.txt\u001b[39m\u001b[39m\"\u001b[39m, src\u001b[39m.\u001b[39mdata\u001b[39m.\u001b[39mdata_utils\u001b[39m.\u001b[39mread_data_IAM, tokenizer, batch_size\u001b[39m=\u001b[39m\u001b[39m16\u001b[39m,\n\u001b[1;32m      <a href='vscode-notebook-cell://attached-container%2B7b22636f6e7461696e65724e616d65223a222f48545231227d@ssh-remote%2Bdoraemon.iuii.ua.es/workspace/notebooks/language_models.ipynb#X22sdnNjb2RlLXJlbW90ZQ%3D%3D?line=1'>2</a>\u001b[0m                       transform\u001b[39m=\u001b[39mv2\u001b[39m.\u001b[39mCompose([v2\u001b[39m.\u001b[39mToTensor()]))\n\u001b[0;32m----> <a href='vscode-notebook-cell://attached-container%2B7b22636f6e7461696e65724e616d65223a222f48545231227d@ssh-remote%2Bdoraemon.iuii.ua.es/workspace/notebooks/language_models.ipynb#X22sdnNjb2RlLXJlbW90ZQ%3D%3D?line=4'>5</a>\u001b[0m total_ppl_iam \u001b[39m=\u001b[39m calculate_ppl(model, dl_iam_test, criterion)\n\u001b[1;32m      <a href='vscode-notebook-cell://attached-container%2B7b22636f6e7461696e65724e616d65223a222f48545231227d@ssh-remote%2Bdoraemon.iuii.ua.es/workspace/notebooks/language_models.ipynb#X22sdnNjb2RlLXJlbW90ZQ%3D%3D?line=6'>7</a>\u001b[0m \u001b[39mprint\u001b[39m(\u001b[39mf\u001b[39m\u001b[39m\"\u001b[39m\u001b[39mPerplexity iam: \u001b[39m\u001b[39m{\u001b[39;00mtotal_ppl_iam\u001b[39m/\u001b[39m\u001b[39mlen\u001b[39m(dl_iam_test)\u001b[39m}\u001b[39;00m\u001b[39m\"\u001b[39m)\n",
      "\u001b[1;32m/workspace/notebooks/language_models.ipynb Cell 20\u001b[0m line \u001b[0;36m1\n\u001b[1;32m      <a href='vscode-notebook-cell://attached-container%2B7b22636f6e7461696e65724e616d65223a222f48545231227d@ssh-remote%2Bdoraemon.iuii.ua.es/workspace/notebooks/language_models.ipynb#X22sdnNjb2RlLXJlbW90ZQ%3D%3D?line=7'>8</a>\u001b[0m targets \u001b[39m=\u001b[39m targets\u001b[39m.\u001b[39mpermute(\u001b[39m1\u001b[39m,\u001b[39m0\u001b[39m)\n\u001b[1;32m      <a href='vscode-notebook-cell://attached-container%2B7b22636f6e7461696e65724e616d65223a222f48545231227d@ssh-remote%2Bdoraemon.iuii.ua.es/workspace/notebooks/language_models.ipynb#X22sdnNjb2RlLXJlbW90ZQ%3D%3D?line=8'>9</a>\u001b[0m labels \u001b[39m=\u001b[39m targets[:, \u001b[39m1\u001b[39m:]\u001b[39m.\u001b[39mclone()\u001b[39m.\u001b[39mcontiguous()\n\u001b[0;32m---> <a href='vscode-notebook-cell://attached-container%2B7b22636f6e7461696e65724e616d65223a222f48545231227d@ssh-remote%2Bdoraemon.iuii.ua.es/workspace/notebooks/language_models.ipynb#X22sdnNjb2RlLXJlbW90ZQ%3D%3D?line=9'>10</a>\u001b[0m outputs \u001b[39m=\u001b[39m model(targets)\u001b[39m.\u001b[39mlogits\n\u001b[1;32m     <a href='vscode-notebook-cell://attached-container%2B7b22636f6e7461696e65724e616d65223a222f48545231227d@ssh-remote%2Bdoraemon.iuii.ua.es/workspace/notebooks/language_models.ipynb#X22sdnNjb2RlLXJlbW90ZQ%3D%3D?line=10'>11</a>\u001b[0m outputs \u001b[39m=\u001b[39m outputs[:, :\u001b[39m-\u001b[39m\u001b[39m1\u001b[39m]\u001b[39m.\u001b[39mcontiguous()\n\u001b[1;32m     <a href='vscode-notebook-cell://attached-container%2B7b22636f6e7461696e65724e616d65223a222f48545231227d@ssh-remote%2Bdoraemon.iuii.ua.es/workspace/notebooks/language_models.ipynb#X22sdnNjb2RlLXJlbW90ZQ%3D%3D?line=11'>12</a>\u001b[0m loss \u001b[39m=\u001b[39m criterion(outputs\u001b[39m.\u001b[39mreshape(\u001b[39m-\u001b[39m\u001b[39m1\u001b[39m, outputs\u001b[39m.\u001b[39msize(\u001b[39m-\u001b[39m\u001b[39m1\u001b[39m)), labels\u001b[39m.\u001b[39mreshape(\u001b[39m-\u001b[39m\u001b[39m1\u001b[39m))\n",
      "File \u001b[0;32m/usr/local/lib/python3.10/dist-packages/torch/nn/modules/module.py:1553\u001b[0m, in \u001b[0;36mModule._wrapped_call_impl\u001b[0;34m(self, *args, **kwargs)\u001b[0m\n\u001b[1;32m   1551\u001b[0m     \u001b[39mreturn\u001b[39;00m \u001b[39mself\u001b[39m\u001b[39m.\u001b[39m_compiled_call_impl(\u001b[39m*\u001b[39margs, \u001b[39m*\u001b[39m\u001b[39m*\u001b[39mkwargs)  \u001b[39m# type: ignore[misc]\u001b[39;00m\n\u001b[1;32m   1552\u001b[0m \u001b[39melse\u001b[39;00m:\n\u001b[0;32m-> 1553\u001b[0m     \u001b[39mreturn\u001b[39;00m \u001b[39mself\u001b[39;49m\u001b[39m.\u001b[39;49m_call_impl(\u001b[39m*\u001b[39;49margs, \u001b[39m*\u001b[39;49m\u001b[39m*\u001b[39;49mkwargs)\n",
      "File \u001b[0;32m/usr/local/lib/python3.10/dist-packages/torch/nn/modules/module.py:1562\u001b[0m, in \u001b[0;36mModule._call_impl\u001b[0;34m(self, *args, **kwargs)\u001b[0m\n\u001b[1;32m   1557\u001b[0m \u001b[39m# If we don't have any hooks, we want to skip the rest of the logic in\u001b[39;00m\n\u001b[1;32m   1558\u001b[0m \u001b[39m# this function, and just call forward.\u001b[39;00m\n\u001b[1;32m   1559\u001b[0m \u001b[39mif\u001b[39;00m \u001b[39mnot\u001b[39;00m (\u001b[39mself\u001b[39m\u001b[39m.\u001b[39m_backward_hooks \u001b[39mor\u001b[39;00m \u001b[39mself\u001b[39m\u001b[39m.\u001b[39m_backward_pre_hooks \u001b[39mor\u001b[39;00m \u001b[39mself\u001b[39m\u001b[39m.\u001b[39m_forward_hooks \u001b[39mor\u001b[39;00m \u001b[39mself\u001b[39m\u001b[39m.\u001b[39m_forward_pre_hooks\n\u001b[1;32m   1560\u001b[0m         \u001b[39mor\u001b[39;00m _global_backward_pre_hooks \u001b[39mor\u001b[39;00m _global_backward_hooks\n\u001b[1;32m   1561\u001b[0m         \u001b[39mor\u001b[39;00m _global_forward_hooks \u001b[39mor\u001b[39;00m _global_forward_pre_hooks):\n\u001b[0;32m-> 1562\u001b[0m     \u001b[39mreturn\u001b[39;00m forward_call(\u001b[39m*\u001b[39;49margs, \u001b[39m*\u001b[39;49m\u001b[39m*\u001b[39;49mkwargs)\n\u001b[1;32m   1564\u001b[0m \u001b[39mtry\u001b[39;00m:\n\u001b[1;32m   1565\u001b[0m     result \u001b[39m=\u001b[39m \u001b[39mNone\u001b[39;00m\n",
      "\u001b[1;32m/workspace/notebooks/language_models.ipynb Cell 20\u001b[0m line \u001b[0;36m7\n\u001b[1;32m     <a href='vscode-notebook-cell://attached-container%2B7b22636f6e7461696e65724e616d65223a222f48545231227d@ssh-remote%2Bdoraemon.iuii.ua.es/workspace/notebooks/language_models.ipynb#X22sdnNjb2RlLXJlbW90ZQ%3D%3D?line=77'>78</a>\u001b[0m \u001b[39mdef\u001b[39;00m \u001b[39mforward\u001b[39m(\u001b[39mself\u001b[39m, x):\n\u001b[0;32m---> <a href='vscode-notebook-cell://attached-container%2B7b22636f6e7461696e65724e616d65223a222f48545231227d@ssh-remote%2Bdoraemon.iuii.ua.es/workspace/notebooks/language_models.ipynb#X22sdnNjb2RlLXJlbW90ZQ%3D%3D?line=78'>79</a>\u001b[0m   h \u001b[39m=\u001b[39m \u001b[39mself\u001b[39;49m\u001b[39m.\u001b[39;49mencoder(x)\n\u001b[1;32m     <a href='vscode-notebook-cell://attached-container%2B7b22636f6e7461696e65724e616d65223a222f48545231227d@ssh-remote%2Bdoraemon.iuii.ua.es/workspace/notebooks/language_models.ipynb#X22sdnNjb2RlLXJlbW90ZQ%3D%3D?line=79'>80</a>\u001b[0m   x \u001b[39m=\u001b[39m \u001b[39mself\u001b[39m\u001b[39m.\u001b[39mdecoder(h)\n\u001b[1;32m     <a href='vscode-notebook-cell://attached-container%2B7b22636f6e7461696e65724e616d65223a222f48545231227d@ssh-remote%2Bdoraemon.iuii.ua.es/workspace/notebooks/language_models.ipynb#X22sdnNjb2RlLXJlbW90ZQ%3D%3D?line=80'>81</a>\u001b[0m   \u001b[39mreturn\u001b[39;00m x\n",
      "File \u001b[0;32m/usr/local/lib/python3.10/dist-packages/torch/nn/modules/module.py:1553\u001b[0m, in \u001b[0;36mModule._wrapped_call_impl\u001b[0;34m(self, *args, **kwargs)\u001b[0m\n\u001b[1;32m   1551\u001b[0m     \u001b[39mreturn\u001b[39;00m \u001b[39mself\u001b[39m\u001b[39m.\u001b[39m_compiled_call_impl(\u001b[39m*\u001b[39margs, \u001b[39m*\u001b[39m\u001b[39m*\u001b[39mkwargs)  \u001b[39m# type: ignore[misc]\u001b[39;00m\n\u001b[1;32m   1552\u001b[0m \u001b[39melse\u001b[39;00m:\n\u001b[0;32m-> 1553\u001b[0m     \u001b[39mreturn\u001b[39;00m \u001b[39mself\u001b[39;49m\u001b[39m.\u001b[39;49m_call_impl(\u001b[39m*\u001b[39;49margs, \u001b[39m*\u001b[39;49m\u001b[39m*\u001b[39;49mkwargs)\n",
      "File \u001b[0;32m/usr/local/lib/python3.10/dist-packages/torch/nn/modules/module.py:1562\u001b[0m, in \u001b[0;36mModule._call_impl\u001b[0;34m(self, *args, **kwargs)\u001b[0m\n\u001b[1;32m   1557\u001b[0m \u001b[39m# If we don't have any hooks, we want to skip the rest of the logic in\u001b[39;00m\n\u001b[1;32m   1558\u001b[0m \u001b[39m# this function, and just call forward.\u001b[39;00m\n\u001b[1;32m   1559\u001b[0m \u001b[39mif\u001b[39;00m \u001b[39mnot\u001b[39;00m (\u001b[39mself\u001b[39m\u001b[39m.\u001b[39m_backward_hooks \u001b[39mor\u001b[39;00m \u001b[39mself\u001b[39m\u001b[39m.\u001b[39m_backward_pre_hooks \u001b[39mor\u001b[39;00m \u001b[39mself\u001b[39m\u001b[39m.\u001b[39m_forward_hooks \u001b[39mor\u001b[39;00m \u001b[39mself\u001b[39m\u001b[39m.\u001b[39m_forward_pre_hooks\n\u001b[1;32m   1560\u001b[0m         \u001b[39mor\u001b[39;00m _global_backward_pre_hooks \u001b[39mor\u001b[39;00m _global_backward_hooks\n\u001b[1;32m   1561\u001b[0m         \u001b[39mor\u001b[39;00m _global_forward_hooks \u001b[39mor\u001b[39;00m _global_forward_pre_hooks):\n\u001b[0;32m-> 1562\u001b[0m     \u001b[39mreturn\u001b[39;00m forward_call(\u001b[39m*\u001b[39;49margs, \u001b[39m*\u001b[39;49m\u001b[39m*\u001b[39;49mkwargs)\n\u001b[1;32m   1564\u001b[0m \u001b[39mtry\u001b[39;00m:\n\u001b[1;32m   1565\u001b[0m     result \u001b[39m=\u001b[39m \u001b[39mNone\u001b[39;00m\n",
      "\u001b[1;32m/workspace/notebooks/language_models.ipynb Cell 20\u001b[0m line \u001b[0;36m1\n\u001b[1;32m     <a href='vscode-notebook-cell://attached-container%2B7b22636f6e7461696e65724e616d65223a222f48545231227d@ssh-remote%2Bdoraemon.iuii.ua.es/workspace/notebooks/language_models.ipynb#X22sdnNjb2RlLXJlbW90ZQ%3D%3D?line=14'>15</a>\u001b[0m \u001b[39mdef\u001b[39;00m \u001b[39mforward\u001b[39m(\u001b[39mself\u001b[39m, x):\n\u001b[1;32m     <a href='vscode-notebook-cell://attached-container%2B7b22636f6e7461696e65724e616d65223a222f48545231227d@ssh-remote%2Bdoraemon.iuii.ua.es/workspace/notebooks/language_models.ipynb#X22sdnNjb2RlLXJlbW90ZQ%3D%3D?line=15'>16</a>\u001b[0m   \u001b[39m# print(f'Encoder input shape: {x.shape}')\u001b[39;00m\n\u001b[0;32m---> <a href='vscode-notebook-cell://attached-container%2B7b22636f6e7461696e65724e616d65223a222f48545231227d@ssh-remote%2Bdoraemon.iuii.ua.es/workspace/notebooks/language_models.ipynb#X22sdnNjb2RlLXJlbW90ZQ%3D%3D?line=16'>17</a>\u001b[0m   x \u001b[39m=\u001b[39m \u001b[39mself\u001b[39m\u001b[39m.\u001b[39mrelu(\u001b[39mself\u001b[39;49m\u001b[39m.\u001b[39;49mconv1(x))\n\u001b[1;32m     <a href='vscode-notebook-cell://attached-container%2B7b22636f6e7461696e65724e616d65223a222f48545231227d@ssh-remote%2Bdoraemon.iuii.ua.es/workspace/notebooks/language_models.ipynb#X22sdnNjb2RlLXJlbW90ZQ%3D%3D?line=17'>18</a>\u001b[0m   x \u001b[39m=\u001b[39m \u001b[39mself\u001b[39m\u001b[39m.\u001b[39mpool(x)\n\u001b[1;32m     <a href='vscode-notebook-cell://attached-container%2B7b22636f6e7461696e65724e616d65223a222f48545231227d@ssh-remote%2Bdoraemon.iuii.ua.es/workspace/notebooks/language_models.ipynb#X22sdnNjb2RlLXJlbW90ZQ%3D%3D?line=18'>19</a>\u001b[0m   \u001b[39m# print(x.shape)\u001b[39;00m\n",
      "File \u001b[0;32m/usr/local/lib/python3.10/dist-packages/torch/nn/modules/module.py:1553\u001b[0m, in \u001b[0;36mModule._wrapped_call_impl\u001b[0;34m(self, *args, **kwargs)\u001b[0m\n\u001b[1;32m   1551\u001b[0m     \u001b[39mreturn\u001b[39;00m \u001b[39mself\u001b[39m\u001b[39m.\u001b[39m_compiled_call_impl(\u001b[39m*\u001b[39margs, \u001b[39m*\u001b[39m\u001b[39m*\u001b[39mkwargs)  \u001b[39m# type: ignore[misc]\u001b[39;00m\n\u001b[1;32m   1552\u001b[0m \u001b[39melse\u001b[39;00m:\n\u001b[0;32m-> 1553\u001b[0m     \u001b[39mreturn\u001b[39;00m \u001b[39mself\u001b[39;49m\u001b[39m.\u001b[39;49m_call_impl(\u001b[39m*\u001b[39;49margs, \u001b[39m*\u001b[39;49m\u001b[39m*\u001b[39;49mkwargs)\n",
      "File \u001b[0;32m/usr/local/lib/python3.10/dist-packages/torch/nn/modules/module.py:1562\u001b[0m, in \u001b[0;36mModule._call_impl\u001b[0;34m(self, *args, **kwargs)\u001b[0m\n\u001b[1;32m   1557\u001b[0m \u001b[39m# If we don't have any hooks, we want to skip the rest of the logic in\u001b[39;00m\n\u001b[1;32m   1558\u001b[0m \u001b[39m# this function, and just call forward.\u001b[39;00m\n\u001b[1;32m   1559\u001b[0m \u001b[39mif\u001b[39;00m \u001b[39mnot\u001b[39;00m (\u001b[39mself\u001b[39m\u001b[39m.\u001b[39m_backward_hooks \u001b[39mor\u001b[39;00m \u001b[39mself\u001b[39m\u001b[39m.\u001b[39m_backward_pre_hooks \u001b[39mor\u001b[39;00m \u001b[39mself\u001b[39m\u001b[39m.\u001b[39m_forward_hooks \u001b[39mor\u001b[39;00m \u001b[39mself\u001b[39m\u001b[39m.\u001b[39m_forward_pre_hooks\n\u001b[1;32m   1560\u001b[0m         \u001b[39mor\u001b[39;00m _global_backward_pre_hooks \u001b[39mor\u001b[39;00m _global_backward_hooks\n\u001b[1;32m   1561\u001b[0m         \u001b[39mor\u001b[39;00m _global_forward_hooks \u001b[39mor\u001b[39;00m _global_forward_pre_hooks):\n\u001b[0;32m-> 1562\u001b[0m     \u001b[39mreturn\u001b[39;00m forward_call(\u001b[39m*\u001b[39;49margs, \u001b[39m*\u001b[39;49m\u001b[39m*\u001b[39;49mkwargs)\n\u001b[1;32m   1564\u001b[0m \u001b[39mtry\u001b[39;00m:\n\u001b[1;32m   1565\u001b[0m     result \u001b[39m=\u001b[39m \u001b[39mNone\u001b[39;00m\n",
      "File \u001b[0;32m/usr/local/lib/python3.10/dist-packages/torch/nn/modules/conv.py:458\u001b[0m, in \u001b[0;36mConv2d.forward\u001b[0;34m(self, input)\u001b[0m\n\u001b[1;32m    457\u001b[0m \u001b[39mdef\u001b[39;00m \u001b[39mforward\u001b[39m(\u001b[39mself\u001b[39m, \u001b[39minput\u001b[39m: Tensor) \u001b[39m-\u001b[39m\u001b[39m>\u001b[39m Tensor:\n\u001b[0;32m--> 458\u001b[0m     \u001b[39mreturn\u001b[39;00m \u001b[39mself\u001b[39;49m\u001b[39m.\u001b[39;49m_conv_forward(\u001b[39minput\u001b[39;49m, \u001b[39mself\u001b[39;49m\u001b[39m.\u001b[39;49mweight, \u001b[39mself\u001b[39;49m\u001b[39m.\u001b[39;49mbias)\n",
      "File \u001b[0;32m/usr/local/lib/python3.10/dist-packages/torch/nn/modules/conv.py:454\u001b[0m, in \u001b[0;36mConv2d._conv_forward\u001b[0;34m(self, input, weight, bias)\u001b[0m\n\u001b[1;32m    450\u001b[0m \u001b[39mif\u001b[39;00m \u001b[39mself\u001b[39m\u001b[39m.\u001b[39mpadding_mode \u001b[39m!=\u001b[39m \u001b[39m'\u001b[39m\u001b[39mzeros\u001b[39m\u001b[39m'\u001b[39m:\n\u001b[1;32m    451\u001b[0m     \u001b[39mreturn\u001b[39;00m F\u001b[39m.\u001b[39mconv2d(F\u001b[39m.\u001b[39mpad(\u001b[39minput\u001b[39m, \u001b[39mself\u001b[39m\u001b[39m.\u001b[39m_reversed_padding_repeated_twice, mode\u001b[39m=\u001b[39m\u001b[39mself\u001b[39m\u001b[39m.\u001b[39mpadding_mode),\n\u001b[1;32m    452\u001b[0m                     weight, bias, \u001b[39mself\u001b[39m\u001b[39m.\u001b[39mstride,\n\u001b[1;32m    453\u001b[0m                     _pair(\u001b[39m0\u001b[39m), \u001b[39mself\u001b[39m\u001b[39m.\u001b[39mdilation, \u001b[39mself\u001b[39m\u001b[39m.\u001b[39mgroups)\n\u001b[0;32m--> 454\u001b[0m \u001b[39mreturn\u001b[39;00m F\u001b[39m.\u001b[39;49mconv2d(\u001b[39minput\u001b[39;49m, weight, bias, \u001b[39mself\u001b[39;49m\u001b[39m.\u001b[39;49mstride,\n\u001b[1;32m    455\u001b[0m                 \u001b[39mself\u001b[39;49m\u001b[39m.\u001b[39;49mpadding, \u001b[39mself\u001b[39;49m\u001b[39m.\u001b[39;49mdilation, \u001b[39mself\u001b[39;49m\u001b[39m.\u001b[39;49mgroups)\n",
      "\u001b[0;31mRuntimeError\u001b[0m: Input type (long int) and bias type (float) should be the same"
     ]
    }
   ],
   "source": [
    "dl_iam_test = read_dataset(\"../data/htr_datasets/IAM/IAM_lines/\", \"../data/htr_datasets/IAM/IAM_xml/\", \"../data/htr_datasets/IAM/splits/test.txt\", src.data.data_utils.read_data_IAM, tokenizer, batch_size=16,\n",
    "                      transform=v2.Compose([v2.ToTensor()]))\n",
    "\n",
    "\n",
    "total_ppl_iam = calculate_ppl(model, dl_iam_test, criterion)\n",
    "  \n",
    "print(f\"Perplexity iam: {total_ppl_iam/len(dl_iam_test)}\")"
   ]
  },
  {
   "cell_type": "code",
   "execution_count": 15,
   "metadata": {},
   "outputs": [
    {
     "name": "stdout",
     "output_type": "stream",
     "text": [
      "Perplexity RIMES: 40.941715240478516\n"
     ]
    }
   ],
   "source": [
    "# Read datasets transcriptions and caluculate perplexity\n",
    "\n",
    "dl_rimes_test = read_dataset(\"../data/htr_datasets/RIMES/RIMES-2011-Lines/Images/\", \"../data/htr_datasets/RIMES/RIMES-2011-Lines/Transcriptions/\", \"../data/htr_datasets/RIMES/RIMES-2011-Lines/Sets/test.txt\", src.data.data_utils.read_data_rimes, tokenizer, batch_size=16,\n",
    "                      transform=v2.Compose([v2.ToTensor()]))\n",
    "\n",
    "total_ppl_rimes = calculate_ppl(model, dl_rimes_test, criterion)\n",
    "  \n",
    "print(f\"Perplexity RIMES: {total_ppl_rimes/len(dl_rimes_test)}\")"
   ]
  },
  {
   "cell_type": "code",
   "execution_count": 16,
   "metadata": {},
   "outputs": [
    {
     "name": "stdout",
     "output_type": "stream",
     "text": [
      "Perplexity bentham: 9.069226264953613\n"
     ]
    }
   ],
   "source": [
    "dl_bentham_test = read_dataset(\n",
    "  \"../data/htr_datasets/bentham/BenthamDatasetR0-GT/Images/Lines/\", \n",
    "  \"../data/htr_datasets/bentham/BenthamDatasetR0-GT/Transcriptions/\", \n",
    "  \"../data/htr_datasets/bentham/BenthamDatasetR0-GT/Partitions/test.txt\", src.data.data_utils.read_data_bentham, tokenizer, batch_size=16,\n",
    "                      transform=v2.Compose([v2.ToTensor()]))\n",
    "\n",
    "\n",
    "total_ppl_bentham = calculate_ppl(model, dl_bentham_test, criterion)\n",
    "  \n",
    "print(f\"Perplexity bentham: {total_ppl_bentham/len(dl_bentham_test)}\")"
   ]
  },
  {
   "cell_type": "code",
   "execution_count": 17,
   "metadata": {},
   "outputs": [
    {
     "name": "stdout",
     "output_type": "stream",
     "text": [
      "Perplexity rodrigo: 109.62201690673828\n"
     ]
    }
   ],
   "source": [
    "dl_rodrigo_test = read_dataset(\n",
    "  \"../data/htr_datasets/rodrigo/Rodrigo corpus 1.0.0/images/\", \n",
    "  \"../data/htr_datasets/rodrigo/Rodrigo corpus 1.0.0/text/\",\n",
    "  \"../data/htr_datasets/rodrigo/Rodrigo corpus 1.0.0/partitions/test.txt\", src.data.data_utils.read_data_rodrigo, tokenizer, batch_size=16,\n",
    "                      transform=v2.Compose([v2.ToTensor()]))\n",
    "\n",
    "\n",
    "total_ppl_rodrigo = calculate_ppl(model, dl_rodrigo_test, criterion)\n",
    "  \n",
    "print(f\"Perplexity rodrigo: {total_ppl_rodrigo/len(dl_rodrigo_test)}\")"
   ]
  },
  {
   "cell_type": "code",
   "execution_count": 18,
   "metadata": {},
   "outputs": [
    {
     "name": "stdout",
     "output_type": "stream",
     "text": [
      "Perplexity washington: 9.620368957519531\n"
     ]
    }
   ],
   "source": [
    "dl_washington_test = read_dataset(\n",
    "  \"../data/htr_datasets/washington/washingtondb-v1.0/data/line_images_normalized/\",\n",
    "  \"../data/htr_datasets/washington/washingtondb-v1.0/ground_truth/\",\n",
    "  \"../data/htr_datasets/washington/washingtondb-v1.0/sets/cv1/test.txt\", src.data.data_utils.read_data_washington, tokenizer, batch_size=16,\n",
    "                      transform=v2.Compose([v2.ToTensor()]))\n",
    "\n",
    "\n",
    "total_ppl_washington = calculate_ppl(model, dl_washington_test, criterion)\n",
    "  \n",
    "print(f\"Perplexity washington: {total_ppl_washington/len(dl_washington_test)}\")"
   ]
  },
  {
   "cell_type": "code",
   "execution_count": 19,
   "metadata": {},
   "outputs": [
    {
     "name": "stdout",
     "output_type": "stream",
     "text": [
      "Perplexity saint_gall: 66.99635314941406\n"
     ]
    }
   ],
   "source": [
    "dl_saint_gall_test = read_dataset(\n",
    "  \"../data/htr_datasets/saint_gall/saintgalldb-v1.0/data/line_images_normalized/\",\n",
    "  \"../data/htr_datasets/saint_gall/saintgalldb-v1.0/ground_truth/\",\n",
    "  \"../data/htr_datasets/saint_gall/saintgalldb-v1.0/sets/test.txt\", src.data.data_utils.read_data_saint_gall, tokenizer, batch_size=16,\n",
    "                      transform=v2.Compose([v2.ToTensor()]))\n",
    "\n",
    "\n",
    "total_ppl_saint_gall = calculate_ppl(model, dl_saint_gall_test, criterion)\n",
    "  \n",
    "print(f\"Perplexity saint_gall: {total_ppl_saint_gall/len(dl_saint_gall_test)}\")"
   ]
  },
  {
   "cell_type": "code",
   "execution_count": 20,
   "metadata": {},
   "outputs": [
    {
     "name": "stdout",
     "output_type": "stream",
     "text": [
      "Files ['Seite0405', 'Seite0406', 'Seite0407', 'Seite0408', 'Seite0409', 'Seite0410', 'Seite0411', 'Seite0412', 'Seite0413', 'Seite0414', 'Seite0415', 'Seite0416', 'Seite0417', 'Seite0418', 'Seite0419', 'Seite0420', 'Seite0421', 'Seite0422', 'Seite0423', 'Seite0424', 'Seite0425', 'Seite0426', 'Seite0427', 'Seite0428', 'Seite0429', 'Seite0430', 'Seite0431', 'Seite0432', 'Seite0433', 'Seite0434', 'Seite0435', 'Seite0436', 'Seite0437', 'Seite0438', 'Seite0439', 'Seite0440', 'Seite0441', 'Seite0442', 'Seite0443', 'Seite0444', 'Seite0445', 'Seite0446', 'Seite0447', 'Seite0448', 'Seite0449', 'Seite0450', 'Seite0451', 'Seite0452', 'Seite0453', 'Seite0454']\n"
     ]
    },
    {
     "name": "stdout",
     "output_type": "stream",
     "text": [
      "Perplexity icfhr_2016: 116.38477325439453\n"
     ]
    }
   ],
   "source": [
    "dl_icfhr_2016_test = read_dataset(\n",
    "  \"../data/htr_datasets/icfhr_2016/lines/\",\n",
    "  \"../data/htr_datasets/icfhr_2016/transcriptions/\",\n",
    "  \"../data/htr_datasets/icfhr_2016/partitions/test.txt\", src.data.data_utils.read_data_icfhr_2016, tokenizer, batch_size=16,\n",
    "                      transform=v2.Compose([v2.ToTensor()]))\n",
    "\n",
    "\n",
    "total_ppl_icfhr_2016 = calculate_ppl(model, dl_icfhr_2016_test, criterion)\n",
    "print(f\"Perplexity icfhr_2016: {total_ppl_icfhr_2016/len(dl_icfhr_2016_test)}\")"
   ]
  },
  {
   "cell_type": "code",
   "execution_count": 21,
   "metadata": {},
   "outputs": [
    {
     "name": "stdout",
     "output_type": "stream",
     "text": [
      "Model trained on IAM\n",
      "Perplexity IAM: \t7.460404396057129\n",
      "Perplexity Bentham: \t9.069226264953613\n",
      "Perplexity Washington: \t9.620368957519531\n",
      "Perplexity RIMES: \t40.941715240478516\n",
      "Perplexity Rodrigo: \t109.62201690673828\n",
      "Perplexity Saint Gall: \t66.99635314941406\n",
      "Perplexity ICFHR 2016: \t116.38477325439453\n"
     ]
    }
   ],
   "source": [
    "# Print the perplexity of the model for each dataset\n",
    "\n",
    "print(f'Model trained on IAM')\n",
    "print(f\"Perplexity IAM: \\t{total_ppl_iam/len(dl_iam_test)}\")\n",
    "print(f\"Perplexity Bentham: \\t{total_ppl_bentham/len(dl_bentham_test)}\")\n",
    "print(f\"Perplexity Washington: \\t{total_ppl_washington/len(dl_washington_test)}\")\n",
    "print(f\"Perplexity RIMES: \\t{total_ppl_rimes/len(dl_rimes_test)}\")\n",
    "print(f\"Perplexity Rodrigo: \\t{total_ppl_rodrigo/len(dl_rodrigo_test)}\")\n",
    "print(f\"Perplexity Saint Gall: \\t{total_ppl_saint_gall/len(dl_saint_gall_test)}\")\n",
    "print(f\"Perplexity ICFHR 2016: \\t{total_ppl_icfhr_2016/len(dl_icfhr_2016_test)}\")\n"
   ]
  },
  {
   "cell_type": "code",
   "execution_count": null,
   "metadata": {},
   "outputs": [],
   "source": []
  },
  {
   "cell_type": "code",
   "execution_count": 22,
   "metadata": {},
   "outputs": [],
   "source": [
    "import torch.nn as nn\n",
    "\n",
    "class Encoder(nn.Module):\n",
    "  # Convolutional Encoder for HTR\n",
    "  def __init__(self):\n",
    "    super(Encoder, self).__init__()\n",
    "    self.conv1 = nn.Conv2d(3, 16, kernel_size=(3,3), padding=1)\n",
    "    self.conv2 = nn.Conv2d(16, 32, kernel_size=(3,3), padding=1)\n",
    "    self.conv3 = nn.Conv2d(32, 64, kernel_size=(3,3), padding=1)\n",
    "    self.conv4 = nn.Conv2d(64, 128, kernel_size=(3,3), padding=1)\n",
    "    self.pool = nn.MaxPool2d(kernel_size=(2,2), stride=(2,2))\n",
    "    self.relu = nn.LeakyReLU()\n",
    "    self.fc = nn.Linear(128*4*64, 512)\n",
    "  \n",
    "  def forward(self, x):\n",
    "    # print(f'Encoder input shape: {x.shape}')\n",
    "    x = self.relu(self.conv1(x))\n",
    "    x = self.pool(x)\n",
    "    # print(x.shape)\n",
    "    x = self.relu(self.conv2(x))\n",
    "    x = self.pool(x)\n",
    "    # print(x.shape)\n",
    "    x = self.relu(self.conv3(x))\n",
    "    x = self.pool(x)\n",
    "    # print(x.shape)\n",
    "    x = self.relu(self.conv4(x))\n",
    "    x = self.pool(x)\n",
    "    # print(x.shape)\n",
    "    x = x.view(x.size(0), -1) # Flatten operation\n",
    "    # print(x.shape)\n",
    "    x = self.fc(x)\n",
    "    # print(x.shape)\n",
    "    return x\n",
    "  \n",
    "  \n",
    "class Decoder(nn.Module):\n",
    "  # Convolutional Decoder for HTR\n",
    "  def __init__(self):\n",
    "    super(Decoder, self).__init__()\n",
    "    self.fc = nn.Linear(512, 128*4*64)\n",
    "    # Deconvolutions (transposed convolutions)\n",
    "    self.deconv1 = nn.ConvTranspose2d(128, 64, kernel_size=(3,3), stride=(2,2), padding=0)\n",
    "    self.deconv2 = nn.ConvTranspose2d(64, 32, kernel_size=(3,3), stride=(2,2), padding=1)\n",
    "    self.deconv3 = nn.ConvTranspose2d(32, 16, kernel_size=(3,3), stride=(2,2), padding=1)\n",
    "    self.deconv4 = nn.ConvTranspose2d(16, 3, kernel_size=(3,3), stride=(2,2), padding=1, output_padding=0)\n",
    "    self.relu = nn.LeakyReLU()\n",
    "    self.sigmoid = nn.Sigmoid()\n",
    "    \n",
    "  def forward(self, x):\n",
    "    # print(f'Decoder input shape: {x.shape}')\n",
    "    x = self.fc(x)\n",
    "    # print(f'x.shape: {x.shape}')\n",
    "    x = x.view(x.size(0), 128, 4, 64)\n",
    "    # print(f'x.shape (after view): {x.shape}')\n",
    "    x = self.relu(self.deconv1(x))\n",
    "    # print(f'x.shape: {x.shape}')\n",
    "    x = self.relu(self.deconv2(x))\n",
    "    # print(f'x.shape: {x.shape}')\n",
    "    x = self.relu(self.deconv3(x))\n",
    "    # print(f'x.shape: {x.shape}')\n",
    "    x = self.relu(self.deconv4(x))\n",
    "    # print(f'x.shape: {x.shape}')\n",
    "    \n",
    "    x = torch.narrow(x, 2, 0, 64)\n",
    "    x = torch.narrow(x, 3, 0, 1024)\n",
    "    x = self.sigmoid(x)\n",
    "    \n",
    "    return x\n",
    "  \n",
    "  \n",
    "class AE(nn.Module):\n",
    "  # Complete Autoencoder (AE) trained to reconstruct images\n",
    "  def __init__(self):\n",
    "    super(AE, self).__init__()\n",
    "    self.encoder = Encoder()\n",
    "    self.decoder = Decoder()\n",
    "  \n",
    "  def forward(self, x):\n",
    "    h = self.encoder(x)\n",
    "    x = self.decoder(h)\n",
    "    return x\n",
    "  \n",
    "\n",
    "  "
   ]
  },
  {
   "cell_type": "code",
   "execution_count": 23,
   "metadata": {},
   "outputs": [
    {
     "name": "stderr",
     "output_type": "stream",
     "text": [
      "/tmp/ipykernel_919312/2862418268.py:4: FutureWarning: You are using `torch.load` with `weights_only=False` (the current default value), which uses the default pickle module implicitly. It is possible to construct malicious pickle data which will execute arbitrary code during unpickling (See https://github.com/pytorch/pytorch/blob/main/SECURITY.md#untrusted-models for more details). In a future release, the default value for `weights_only` will be flipped to `True`. This limits the functions that could be executed during unpickling. Arbitrary objects will no longer be allowed to be loaded via this mode unless they are explicitly allowlisted by the user via `torch.serialization.add_safe_globals`. We recommend you start setting `weights_only=True` for any use case where you don't have full control of the loaded file. Please open an issue on GitHub for any issues related to this experimental feature.\n",
      "  model.load_state_dict(torch.load(\"../checkpoints/best_ae_iam.ckpt\"))\n"
     ]
    },
    {
     "name": "stdout",
     "output_type": "stream",
     "text": [
      "Model loaded successfully\n"
     ]
    }
   ],
   "source": [
    "import os \n",
    "if os.path.exists(\"../checkpoints/best_ae_iam.ckpt\"):\n",
    "  model = AE()\n",
    "  model.load_state_dict(torch.load(\"../checkpoints/best_ae_iam.ckpt\"))\n",
    "  model = model.to(\"cuda\")\n",
    "  print(\"Model loaded successfully\")"
   ]
  },
  {
   "cell_type": "code",
   "execution_count": 24,
   "metadata": {},
   "outputs": [
    {
     "name": "stdout",
     "output_type": "stream",
     "text": [
      "Files ['Seite0405', 'Seite0406', 'Seite0407', 'Seite0408', 'Seite0409', 'Seite0410', 'Seite0411', 'Seite0412', 'Seite0413', 'Seite0414', 'Seite0415', 'Seite0416', 'Seite0417', 'Seite0418', 'Seite0419', 'Seite0420', 'Seite0421', 'Seite0422', 'Seite0423', 'Seite0424', 'Seite0425', 'Seite0426', 'Seite0427', 'Seite0428', 'Seite0429', 'Seite0430', 'Seite0431', 'Seite0432', 'Seite0433', 'Seite0434', 'Seite0435', 'Seite0436', 'Seite0437', 'Seite0438', 'Seite0439', 'Seite0440', 'Seite0441', 'Seite0442', 'Seite0443', 'Seite0444', 'Seite0445', 'Seite0446', 'Seite0447', 'Seite0448', 'Seite0449', 'Seite0450', 'Seite0451', 'Seite0452', 'Seite0453', 'Seite0454']\n"
     ]
    }
   ],
   "source": [
    "dataloaders_tests = dict()\n",
    "\n",
    "\n",
    "dataloaders_tests[\"IAM\"] = read_dataset(\"../data/htr_datasets/IAM/IAM_lines/\", \"../data/htr_datasets/IAM/IAM_xml/\", \"../data/htr_datasets/IAM/splits/test.txt\", src.data.data_utils.read_data_IAM, tokenizer, 8)\n",
    "dataloaders_tests[\"RIMES\"] = read_dataset(\"../data/htr_datasets/RIMES/RIMES-2011-Lines/Images/\", \"../data/htr_datasets/RIMES/RIMES-2011-Lines/Transcriptions/\", \"../data/htr_datasets/RIMES/RIMES-2011-Lines/Sets/test.txt\", src.data.data_utils.read_data_rimes, tokenizer, 8)\n",
    "dataloaders_tests[\"Saint_Gall\"] = read_dataset(\"../data/htr_datasets/saint_gall/saintgalldb-v1.0/data/line_images_normalized/\", \"../data/htr_datasets/saint_gall/saintgalldb-v1.0/ground_truth/\", \"../data/htr_datasets/saint_gall/saintgalldb-v1.0/sets/test.txt\", src.data.data_utils.read_data_saint_gall, tokenizer, 8)\n",
    "dataloaders_tests[\"Bentham\"] = read_dataset(\"../data/htr_datasets/bentham/BenthamDatasetR0-GT/Images/Lines/\", \"../data/htr_datasets/bentham/BenthamDatasetR0-GT/Transcriptions/\", \"../data/htr_datasets/bentham/BenthamDatasetR0-GT/Partitions/test.txt\", src.data.data_utils.read_data_bentham, tokenizer, 8)\n",
    "dataloaders_tests[\"Washington\"] = read_dataset(\"../data/htr_datasets/washington/washingtondb-v1.0/data/line_images_normalized/\", \"../data/htr_datasets/washington/washingtondb-v1.0/ground_truth/\", \"../data/htr_datasets/washington/washingtondb-v1.0/sets/cv1/test.txt\", src.data.data_utils.read_data_washington, tokenizer, 8)\n",
    "dataloaders_tests[\"ICFHR_2016\"] = read_dataset(\"../data/htr_datasets/icfhr_2016/lines/\", \"../data/htr_datasets/icfhr_2016/transcriptions/\", \"../data/htr_datasets/icfhr_2016/partitions/test.txt\", src.data.data_utils.read_data_icfhr_2016, tokenizer, 8)\n",
    "dataloaders_tests[\"Rodrigo\"] = read_dataset(\"../data/htr_datasets/rodrigo/Rodrigo corpus 1.0.0/images/\", \"../data/htr_datasets/rodrigo/Rodrigo corpus 1.0.0/text/\", \"../data/htr_datasets/rodrigo/Rodrigo corpus 1.0.0/partitions/test.txt\", src.data.data_utils.read_data_rodrigo, tokenizer, 8)\n",
    "\n"
   ]
  },
  {
   "cell_type": "code",
   "execution_count": 53,
   "metadata": {},
   "outputs": [],
   "source": [
    "def get_reconstruction_error(model, dataset_name, data_loader, criterion):\n",
    "  total_loss = 0.0\n",
    "  with torch.no_grad():\n",
    "    model.eval()\n",
    "    model.to(\"cuda\")\n",
    "    for i, batch in enumerate(data_loader):\n",
    "      images, targets, _ = batch\n",
    "      images = images.to(\"cuda\")\n",
    "      images = v2.Resize((64,1024))(images).to(\"cuda\").long()\n",
    "      outputs = (model(images) > 0.5).float()\n",
    "      loss = criterion(outputs, images)\n",
    "      total_loss += loss.item()\n",
    "      \n",
    "  return {\n",
    "    \"dataset\": dataset_name, \n",
    "    \"total_loss\": total_loss,\n",
    "    \"reconstruction_error\": total_loss / len(data_loader.dataset), \n",
    "    \"n_samples\": len(data_loader.dataset)\n",
    "  }\n",
    "  \n",
    "# Get reconstruction error for IAM dataset\n",
    "# reconstruction_error = get_reconstruction_error(model, \"IAM\", dl_train, criterion)\n"
   ]
  },
  {
   "cell_type": "code",
   "execution_count": 54,
   "metadata": {},
   "outputs": [
    {
     "name": "stderr",
     "output_type": "stream",
     "text": [
      "/usr/local/lib/python3.10/dist-packages/torchvision/transforms/functional.py:1603: UserWarning: The default value of the antialias parameter of all the resizing transforms (Resize(), RandomResizedCrop(), etc.) will change from None to True in v0.17, in order to be consistent across the PIL and Tensor backends. To suppress this warning, directly pass antialias=True (recommended, future default), antialias=None (current default, which means False for Tensors and True for PIL), or antialias=False (only works on Tensors - PIL will still use antialiasing). This also applies if you are using the inference transforms from the models weights: update the call to weights.transforms(antialias=True).\n",
      "  warnings.warn(\n"
     ]
    },
    {
     "ename": "OutOfMemoryError",
     "evalue": "CUDA out of memory. Tried to allocate 6.00 GiB. GPU 0 has a total capacity of 23.65 GiB of which 4.01 GiB is free. Process 3190688 has 28.06 MiB memory in use. Process 288808 has 18.62 GiB memory in use. Process 406056 has 996.00 MiB memory in use. Of the allocated memory 18.11 GiB is allocated by PyTorch, and 69.10 MiB is reserved by PyTorch but unallocated. If reserved but unallocated memory is large try setting PYTORCH_CUDA_ALLOC_CONF=expandable_segments:True to avoid fragmentation.  See documentation for Memory Management  (https://pytorch.org/docs/stable/notes/cuda.html#environment-variables)",
     "output_type": "error",
     "traceback": [
      "\u001b[0;31m---------------------------------------------------------------------------\u001b[0m",
      "\u001b[0;31mOutOfMemoryError\u001b[0m                          Traceback (most recent call last)",
      "\u001b[1;32m/workspace/notebooks/language_models.ipynb Cell 33\u001b[0m line \u001b[0;36m5\n\u001b[1;32m      <a href='vscode-notebook-cell://attached-container%2B7b22636f6e7461696e65724e616d65223a222f48545231227d@ssh-remote%2Bdoraemon.iuii.ua.es/workspace/notebooks/language_models.ipynb#X41sdnNjb2RlLXJlbW90ZQ%3D%3D?line=1'>2</a>\u001b[0m criterion \u001b[39m=\u001b[39m nn\u001b[39m.\u001b[39mMSELoss()\n\u001b[1;32m      <a href='vscode-notebook-cell://attached-container%2B7b22636f6e7461696e65724e616d65223a222f48545231227d@ssh-remote%2Bdoraemon.iuii.ua.es/workspace/notebooks/language_models.ipynb#X41sdnNjb2RlLXJlbW90ZQ%3D%3D?line=3'>4</a>\u001b[0m \u001b[39mfor\u001b[39;00m dataset_name, data_loader \u001b[39min\u001b[39;00m dataloaders_tests\u001b[39m.\u001b[39mitems():\n\u001b[0;32m----> <a href='vscode-notebook-cell://attached-container%2B7b22636f6e7461696e65724e616d65223a222f48545231227d@ssh-remote%2Bdoraemon.iuii.ua.es/workspace/notebooks/language_models.ipynb#X41sdnNjb2RlLXJlbW90ZQ%3D%3D?line=4'>5</a>\u001b[0m   reconstruction_errors[dataset_name] \u001b[39m=\u001b[39m get_reconstruction_error(model, dataset_name, data_loader, criterion)\n\u001b[1;32m      <a href='vscode-notebook-cell://attached-container%2B7b22636f6e7461696e65724e616d65223a222f48545231227d@ssh-remote%2Bdoraemon.iuii.ua.es/workspace/notebooks/language_models.ipynb#X41sdnNjb2RlLXJlbW90ZQ%3D%3D?line=6'>7</a>\u001b[0m reconstruction_errors\n",
      "\u001b[1;32m/workspace/notebooks/language_models.ipynb Cell 33\u001b[0m line \u001b[0;36m1\n\u001b[1;32m      <a href='vscode-notebook-cell://attached-container%2B7b22636f6e7461696e65724e616d65223a222f48545231227d@ssh-remote%2Bdoraemon.iuii.ua.es/workspace/notebooks/language_models.ipynb#X41sdnNjb2RlLXJlbW90ZQ%3D%3D?line=7'>8</a>\u001b[0m images \u001b[39m=\u001b[39m images\u001b[39m.\u001b[39mto(\u001b[39m\"\u001b[39m\u001b[39mcuda\u001b[39m\u001b[39m\"\u001b[39m)\n\u001b[1;32m      <a href='vscode-notebook-cell://attached-container%2B7b22636f6e7461696e65724e616d65223a222f48545231227d@ssh-remote%2Bdoraemon.iuii.ua.es/workspace/notebooks/language_models.ipynb#X41sdnNjb2RlLXJlbW90ZQ%3D%3D?line=8'>9</a>\u001b[0m images \u001b[39m=\u001b[39m v2\u001b[39m.\u001b[39mResize((\u001b[39m64\u001b[39m,\u001b[39m1024\u001b[39m))(images)\u001b[39m.\u001b[39mto(\u001b[39m\"\u001b[39m\u001b[39mcuda\u001b[39m\u001b[39m\"\u001b[39m)\u001b[39m.\u001b[39mlong()\n\u001b[0;32m---> <a href='vscode-notebook-cell://attached-container%2B7b22636f6e7461696e65724e616d65223a222f48545231227d@ssh-remote%2Bdoraemon.iuii.ua.es/workspace/notebooks/language_models.ipynb#X41sdnNjb2RlLXJlbW90ZQ%3D%3D?line=9'>10</a>\u001b[0m outputs \u001b[39m=\u001b[39m (model(images) \u001b[39m>\u001b[39m \u001b[39m0.5\u001b[39m)\u001b[39m.\u001b[39mfloat()\n\u001b[1;32m     <a href='vscode-notebook-cell://attached-container%2B7b22636f6e7461696e65724e616d65223a222f48545231227d@ssh-remote%2Bdoraemon.iuii.ua.es/workspace/notebooks/language_models.ipynb#X41sdnNjb2RlLXJlbW90ZQ%3D%3D?line=10'>11</a>\u001b[0m loss \u001b[39m=\u001b[39m criterion(outputs, images)\n\u001b[1;32m     <a href='vscode-notebook-cell://attached-container%2B7b22636f6e7461696e65724e616d65223a222f48545231227d@ssh-remote%2Bdoraemon.iuii.ua.es/workspace/notebooks/language_models.ipynb#X41sdnNjb2RlLXJlbW90ZQ%3D%3D?line=11'>12</a>\u001b[0m total_loss \u001b[39m+\u001b[39m\u001b[39m=\u001b[39m loss\u001b[39m.\u001b[39mitem()\n",
      "File \u001b[0;32m/usr/local/lib/python3.10/dist-packages/torch/nn/modules/module.py:1553\u001b[0m, in \u001b[0;36mModule._wrapped_call_impl\u001b[0;34m(self, *args, **kwargs)\u001b[0m\n\u001b[1;32m   1551\u001b[0m     \u001b[39mreturn\u001b[39;00m \u001b[39mself\u001b[39m\u001b[39m.\u001b[39m_compiled_call_impl(\u001b[39m*\u001b[39margs, \u001b[39m*\u001b[39m\u001b[39m*\u001b[39mkwargs)  \u001b[39m# type: ignore[misc]\u001b[39;00m\n\u001b[1;32m   1552\u001b[0m \u001b[39melse\u001b[39;00m:\n\u001b[0;32m-> 1553\u001b[0m     \u001b[39mreturn\u001b[39;00m \u001b[39mself\u001b[39;49m\u001b[39m.\u001b[39;49m_call_impl(\u001b[39m*\u001b[39;49margs, \u001b[39m*\u001b[39;49m\u001b[39m*\u001b[39;49mkwargs)\n",
      "File \u001b[0;32m/usr/local/lib/python3.10/dist-packages/torch/nn/modules/module.py:1562\u001b[0m, in \u001b[0;36mModule._call_impl\u001b[0;34m(self, *args, **kwargs)\u001b[0m\n\u001b[1;32m   1557\u001b[0m \u001b[39m# If we don't have any hooks, we want to skip the rest of the logic in\u001b[39;00m\n\u001b[1;32m   1558\u001b[0m \u001b[39m# this function, and just call forward.\u001b[39;00m\n\u001b[1;32m   1559\u001b[0m \u001b[39mif\u001b[39;00m \u001b[39mnot\u001b[39;00m (\u001b[39mself\u001b[39m\u001b[39m.\u001b[39m_backward_hooks \u001b[39mor\u001b[39;00m \u001b[39mself\u001b[39m\u001b[39m.\u001b[39m_backward_pre_hooks \u001b[39mor\u001b[39;00m \u001b[39mself\u001b[39m\u001b[39m.\u001b[39m_forward_hooks \u001b[39mor\u001b[39;00m \u001b[39mself\u001b[39m\u001b[39m.\u001b[39m_forward_pre_hooks\n\u001b[1;32m   1560\u001b[0m         \u001b[39mor\u001b[39;00m _global_backward_pre_hooks \u001b[39mor\u001b[39;00m _global_backward_hooks\n\u001b[1;32m   1561\u001b[0m         \u001b[39mor\u001b[39;00m _global_forward_hooks \u001b[39mor\u001b[39;00m _global_forward_pre_hooks):\n\u001b[0;32m-> 1562\u001b[0m     \u001b[39mreturn\u001b[39;00m forward_call(\u001b[39m*\u001b[39;49margs, \u001b[39m*\u001b[39;49m\u001b[39m*\u001b[39;49mkwargs)\n\u001b[1;32m   1564\u001b[0m \u001b[39mtry\u001b[39;00m:\n\u001b[1;32m   1565\u001b[0m     result \u001b[39m=\u001b[39m \u001b[39mNone\u001b[39;00m\n",
      "File \u001b[0;32m/usr/local/lib/python3.10/dist-packages/transformers/models/gpt2/modeling_gpt2.py:1315\u001b[0m, in \u001b[0;36mGPT2LMHeadModel.forward\u001b[0;34m(self, input_ids, past_key_values, attention_mask, token_type_ids, position_ids, head_mask, inputs_embeds, encoder_hidden_states, encoder_attention_mask, labels, use_cache, output_attentions, output_hidden_states, return_dict)\u001b[0m\n\u001b[1;32m   1307\u001b[0m \u001b[39m\u001b[39m\u001b[39mr\u001b[39m\u001b[39m\"\"\"\u001b[39;00m\n\u001b[1;32m   1308\u001b[0m \u001b[39mlabels (`torch.LongTensor` of shape `(batch_size, sequence_length)`, *optional*):\u001b[39;00m\n\u001b[1;32m   1309\u001b[0m \u001b[39m    Labels for language modeling. Note that the labels **are shifted** inside the model, i.e. you can set\u001b[39;00m\n\u001b[1;32m   1310\u001b[0m \u001b[39m    `labels = input_ids` Indices are selected in `[-100, 0, ..., config.vocab_size]` All labels set to `-100`\u001b[39;00m\n\u001b[1;32m   1311\u001b[0m \u001b[39m    are ignored (masked), the loss is only computed for labels in `[0, ..., config.vocab_size]`\u001b[39;00m\n\u001b[1;32m   1312\u001b[0m \u001b[39m\"\"\"\u001b[39;00m\n\u001b[1;32m   1313\u001b[0m return_dict \u001b[39m=\u001b[39m return_dict \u001b[39mif\u001b[39;00m return_dict \u001b[39mis\u001b[39;00m \u001b[39mnot\u001b[39;00m \u001b[39mNone\u001b[39;00m \u001b[39melse\u001b[39;00m \u001b[39mself\u001b[39m\u001b[39m.\u001b[39mconfig\u001b[39m.\u001b[39muse_return_dict\n\u001b[0;32m-> 1315\u001b[0m transformer_outputs \u001b[39m=\u001b[39m \u001b[39mself\u001b[39;49m\u001b[39m.\u001b[39;49mtransformer(\n\u001b[1;32m   1316\u001b[0m     input_ids,\n\u001b[1;32m   1317\u001b[0m     past_key_values\u001b[39m=\u001b[39;49mpast_key_values,\n\u001b[1;32m   1318\u001b[0m     attention_mask\u001b[39m=\u001b[39;49mattention_mask,\n\u001b[1;32m   1319\u001b[0m     token_type_ids\u001b[39m=\u001b[39;49mtoken_type_ids,\n\u001b[1;32m   1320\u001b[0m     position_ids\u001b[39m=\u001b[39;49mposition_ids,\n\u001b[1;32m   1321\u001b[0m     head_mask\u001b[39m=\u001b[39;49mhead_mask,\n\u001b[1;32m   1322\u001b[0m     inputs_embeds\u001b[39m=\u001b[39;49minputs_embeds,\n\u001b[1;32m   1323\u001b[0m     encoder_hidden_states\u001b[39m=\u001b[39;49mencoder_hidden_states,\n\u001b[1;32m   1324\u001b[0m     encoder_attention_mask\u001b[39m=\u001b[39;49mencoder_attention_mask,\n\u001b[1;32m   1325\u001b[0m     use_cache\u001b[39m=\u001b[39;49muse_cache,\n\u001b[1;32m   1326\u001b[0m     output_attentions\u001b[39m=\u001b[39;49moutput_attentions,\n\u001b[1;32m   1327\u001b[0m     output_hidden_states\u001b[39m=\u001b[39;49moutput_hidden_states,\n\u001b[1;32m   1328\u001b[0m     return_dict\u001b[39m=\u001b[39;49mreturn_dict,\n\u001b[1;32m   1329\u001b[0m )\n\u001b[1;32m   1330\u001b[0m hidden_states \u001b[39m=\u001b[39m transformer_outputs[\u001b[39m0\u001b[39m]\n\u001b[1;32m   1332\u001b[0m \u001b[39m# Set device for model parallelism\u001b[39;00m\n",
      "File \u001b[0;32m/usr/local/lib/python3.10/dist-packages/torch/nn/modules/module.py:1553\u001b[0m, in \u001b[0;36mModule._wrapped_call_impl\u001b[0;34m(self, *args, **kwargs)\u001b[0m\n\u001b[1;32m   1551\u001b[0m     \u001b[39mreturn\u001b[39;00m \u001b[39mself\u001b[39m\u001b[39m.\u001b[39m_compiled_call_impl(\u001b[39m*\u001b[39margs, \u001b[39m*\u001b[39m\u001b[39m*\u001b[39mkwargs)  \u001b[39m# type: ignore[misc]\u001b[39;00m\n\u001b[1;32m   1552\u001b[0m \u001b[39melse\u001b[39;00m:\n\u001b[0;32m-> 1553\u001b[0m     \u001b[39mreturn\u001b[39;00m \u001b[39mself\u001b[39;49m\u001b[39m.\u001b[39;49m_call_impl(\u001b[39m*\u001b[39;49margs, \u001b[39m*\u001b[39;49m\u001b[39m*\u001b[39;49mkwargs)\n",
      "File \u001b[0;32m/usr/local/lib/python3.10/dist-packages/torch/nn/modules/module.py:1562\u001b[0m, in \u001b[0;36mModule._call_impl\u001b[0;34m(self, *args, **kwargs)\u001b[0m\n\u001b[1;32m   1557\u001b[0m \u001b[39m# If we don't have any hooks, we want to skip the rest of the logic in\u001b[39;00m\n\u001b[1;32m   1558\u001b[0m \u001b[39m# this function, and just call forward.\u001b[39;00m\n\u001b[1;32m   1559\u001b[0m \u001b[39mif\u001b[39;00m \u001b[39mnot\u001b[39;00m (\u001b[39mself\u001b[39m\u001b[39m.\u001b[39m_backward_hooks \u001b[39mor\u001b[39;00m \u001b[39mself\u001b[39m\u001b[39m.\u001b[39m_backward_pre_hooks \u001b[39mor\u001b[39;00m \u001b[39mself\u001b[39m\u001b[39m.\u001b[39m_forward_hooks \u001b[39mor\u001b[39;00m \u001b[39mself\u001b[39m\u001b[39m.\u001b[39m_forward_pre_hooks\n\u001b[1;32m   1560\u001b[0m         \u001b[39mor\u001b[39;00m _global_backward_pre_hooks \u001b[39mor\u001b[39;00m _global_backward_hooks\n\u001b[1;32m   1561\u001b[0m         \u001b[39mor\u001b[39;00m _global_forward_hooks \u001b[39mor\u001b[39;00m _global_forward_pre_hooks):\n\u001b[0;32m-> 1562\u001b[0m     \u001b[39mreturn\u001b[39;00m forward_call(\u001b[39m*\u001b[39;49margs, \u001b[39m*\u001b[39;49m\u001b[39m*\u001b[39;49mkwargs)\n\u001b[1;32m   1564\u001b[0m \u001b[39mtry\u001b[39;00m:\n\u001b[1;32m   1565\u001b[0m     result \u001b[39m=\u001b[39m \u001b[39mNone\u001b[39;00m\n",
      "File \u001b[0;32m/usr/local/lib/python3.10/dist-packages/transformers/models/gpt2/modeling_gpt2.py:1129\u001b[0m, in \u001b[0;36mGPT2Model.forward\u001b[0;34m(self, input_ids, past_key_values, attention_mask, token_type_ids, position_ids, head_mask, inputs_embeds, encoder_hidden_states, encoder_attention_mask, use_cache, output_attentions, output_hidden_states, return_dict)\u001b[0m\n\u001b[1;32m   1117\u001b[0m     outputs \u001b[39m=\u001b[39m \u001b[39mself\u001b[39m\u001b[39m.\u001b[39m_gradient_checkpointing_func(\n\u001b[1;32m   1118\u001b[0m         block\u001b[39m.\u001b[39m\u001b[39m__call__\u001b[39m,\n\u001b[1;32m   1119\u001b[0m         hidden_states,\n\u001b[0;32m   (...)\u001b[0m\n\u001b[1;32m   1126\u001b[0m         output_attentions,\n\u001b[1;32m   1127\u001b[0m     )\n\u001b[1;32m   1128\u001b[0m \u001b[39melse\u001b[39;00m:\n\u001b[0;32m-> 1129\u001b[0m     outputs \u001b[39m=\u001b[39m block(\n\u001b[1;32m   1130\u001b[0m         hidden_states,\n\u001b[1;32m   1131\u001b[0m         layer_past\u001b[39m=\u001b[39;49mlayer_past,\n\u001b[1;32m   1132\u001b[0m         attention_mask\u001b[39m=\u001b[39;49mattention_mask,\n\u001b[1;32m   1133\u001b[0m         head_mask\u001b[39m=\u001b[39;49mhead_mask[i],\n\u001b[1;32m   1134\u001b[0m         encoder_hidden_states\u001b[39m=\u001b[39;49mencoder_hidden_states,\n\u001b[1;32m   1135\u001b[0m         encoder_attention_mask\u001b[39m=\u001b[39;49mencoder_attention_mask,\n\u001b[1;32m   1136\u001b[0m         use_cache\u001b[39m=\u001b[39;49muse_cache,\n\u001b[1;32m   1137\u001b[0m         output_attentions\u001b[39m=\u001b[39;49moutput_attentions,\n\u001b[1;32m   1138\u001b[0m     )\n\u001b[1;32m   1140\u001b[0m hidden_states \u001b[39m=\u001b[39m outputs[\u001b[39m0\u001b[39m]\n\u001b[1;32m   1141\u001b[0m \u001b[39mif\u001b[39;00m use_cache \u001b[39mis\u001b[39;00m \u001b[39mTrue\u001b[39;00m:\n",
      "File \u001b[0;32m/usr/local/lib/python3.10/dist-packages/torch/nn/modules/module.py:1553\u001b[0m, in \u001b[0;36mModule._wrapped_call_impl\u001b[0;34m(self, *args, **kwargs)\u001b[0m\n\u001b[1;32m   1551\u001b[0m     \u001b[39mreturn\u001b[39;00m \u001b[39mself\u001b[39m\u001b[39m.\u001b[39m_compiled_call_impl(\u001b[39m*\u001b[39margs, \u001b[39m*\u001b[39m\u001b[39m*\u001b[39mkwargs)  \u001b[39m# type: ignore[misc]\u001b[39;00m\n\u001b[1;32m   1552\u001b[0m \u001b[39melse\u001b[39;00m:\n\u001b[0;32m-> 1553\u001b[0m     \u001b[39mreturn\u001b[39;00m \u001b[39mself\u001b[39;49m\u001b[39m.\u001b[39;49m_call_impl(\u001b[39m*\u001b[39;49margs, \u001b[39m*\u001b[39;49m\u001b[39m*\u001b[39;49mkwargs)\n",
      "File \u001b[0;32m/usr/local/lib/python3.10/dist-packages/torch/nn/modules/module.py:1562\u001b[0m, in \u001b[0;36mModule._call_impl\u001b[0;34m(self, *args, **kwargs)\u001b[0m\n\u001b[1;32m   1557\u001b[0m \u001b[39m# If we don't have any hooks, we want to skip the rest of the logic in\u001b[39;00m\n\u001b[1;32m   1558\u001b[0m \u001b[39m# this function, and just call forward.\u001b[39;00m\n\u001b[1;32m   1559\u001b[0m \u001b[39mif\u001b[39;00m \u001b[39mnot\u001b[39;00m (\u001b[39mself\u001b[39m\u001b[39m.\u001b[39m_backward_hooks \u001b[39mor\u001b[39;00m \u001b[39mself\u001b[39m\u001b[39m.\u001b[39m_backward_pre_hooks \u001b[39mor\u001b[39;00m \u001b[39mself\u001b[39m\u001b[39m.\u001b[39m_forward_hooks \u001b[39mor\u001b[39;00m \u001b[39mself\u001b[39m\u001b[39m.\u001b[39m_forward_pre_hooks\n\u001b[1;32m   1560\u001b[0m         \u001b[39mor\u001b[39;00m _global_backward_pre_hooks \u001b[39mor\u001b[39;00m _global_backward_hooks\n\u001b[1;32m   1561\u001b[0m         \u001b[39mor\u001b[39;00m _global_forward_hooks \u001b[39mor\u001b[39;00m _global_forward_pre_hooks):\n\u001b[0;32m-> 1562\u001b[0m     \u001b[39mreturn\u001b[39;00m forward_call(\u001b[39m*\u001b[39;49margs, \u001b[39m*\u001b[39;49m\u001b[39m*\u001b[39;49mkwargs)\n\u001b[1;32m   1564\u001b[0m \u001b[39mtry\u001b[39;00m:\n\u001b[1;32m   1565\u001b[0m     result \u001b[39m=\u001b[39m \u001b[39mNone\u001b[39;00m\n",
      "File \u001b[0;32m/usr/local/lib/python3.10/dist-packages/transformers/models/gpt2/modeling_gpt2.py:651\u001b[0m, in \u001b[0;36mGPT2Block.forward\u001b[0;34m(self, hidden_states, layer_past, attention_mask, head_mask, encoder_hidden_states, encoder_attention_mask, use_cache, output_attentions)\u001b[0m\n\u001b[1;32m    649\u001b[0m residual \u001b[39m=\u001b[39m hidden_states\n\u001b[1;32m    650\u001b[0m hidden_states \u001b[39m=\u001b[39m \u001b[39mself\u001b[39m\u001b[39m.\u001b[39mln_2(hidden_states)\n\u001b[0;32m--> 651\u001b[0m feed_forward_hidden_states \u001b[39m=\u001b[39m \u001b[39mself\u001b[39;49m\u001b[39m.\u001b[39;49mmlp(hidden_states)\n\u001b[1;32m    652\u001b[0m \u001b[39m# residual connection\u001b[39;00m\n\u001b[1;32m    653\u001b[0m hidden_states \u001b[39m=\u001b[39m residual \u001b[39m+\u001b[39m feed_forward_hidden_states\n",
      "File \u001b[0;32m/usr/local/lib/python3.10/dist-packages/torch/nn/modules/module.py:1553\u001b[0m, in \u001b[0;36mModule._wrapped_call_impl\u001b[0;34m(self, *args, **kwargs)\u001b[0m\n\u001b[1;32m   1551\u001b[0m     \u001b[39mreturn\u001b[39;00m \u001b[39mself\u001b[39m\u001b[39m.\u001b[39m_compiled_call_impl(\u001b[39m*\u001b[39margs, \u001b[39m*\u001b[39m\u001b[39m*\u001b[39mkwargs)  \u001b[39m# type: ignore[misc]\u001b[39;00m\n\u001b[1;32m   1552\u001b[0m \u001b[39melse\u001b[39;00m:\n\u001b[0;32m-> 1553\u001b[0m     \u001b[39mreturn\u001b[39;00m \u001b[39mself\u001b[39;49m\u001b[39m.\u001b[39;49m_call_impl(\u001b[39m*\u001b[39;49margs, \u001b[39m*\u001b[39;49m\u001b[39m*\u001b[39;49mkwargs)\n",
      "File \u001b[0;32m/usr/local/lib/python3.10/dist-packages/torch/nn/modules/module.py:1562\u001b[0m, in \u001b[0;36mModule._call_impl\u001b[0;34m(self, *args, **kwargs)\u001b[0m\n\u001b[1;32m   1557\u001b[0m \u001b[39m# If we don't have any hooks, we want to skip the rest of the logic in\u001b[39;00m\n\u001b[1;32m   1558\u001b[0m \u001b[39m# this function, and just call forward.\u001b[39;00m\n\u001b[1;32m   1559\u001b[0m \u001b[39mif\u001b[39;00m \u001b[39mnot\u001b[39;00m (\u001b[39mself\u001b[39m\u001b[39m.\u001b[39m_backward_hooks \u001b[39mor\u001b[39;00m \u001b[39mself\u001b[39m\u001b[39m.\u001b[39m_backward_pre_hooks \u001b[39mor\u001b[39;00m \u001b[39mself\u001b[39m\u001b[39m.\u001b[39m_forward_hooks \u001b[39mor\u001b[39;00m \u001b[39mself\u001b[39m\u001b[39m.\u001b[39m_forward_pre_hooks\n\u001b[1;32m   1560\u001b[0m         \u001b[39mor\u001b[39;00m _global_backward_pre_hooks \u001b[39mor\u001b[39;00m _global_backward_hooks\n\u001b[1;32m   1561\u001b[0m         \u001b[39mor\u001b[39;00m _global_forward_hooks \u001b[39mor\u001b[39;00m _global_forward_pre_hooks):\n\u001b[0;32m-> 1562\u001b[0m     \u001b[39mreturn\u001b[39;00m forward_call(\u001b[39m*\u001b[39;49margs, \u001b[39m*\u001b[39;49m\u001b[39m*\u001b[39;49mkwargs)\n\u001b[1;32m   1564\u001b[0m \u001b[39mtry\u001b[39;00m:\n\u001b[1;32m   1565\u001b[0m     result \u001b[39m=\u001b[39m \u001b[39mNone\u001b[39;00m\n",
      "File \u001b[0;32m/usr/local/lib/python3.10/dist-packages/transformers/models/gpt2/modeling_gpt2.py:575\u001b[0m, in \u001b[0;36mGPT2MLP.forward\u001b[0;34m(self, hidden_states)\u001b[0m\n\u001b[1;32m    573\u001b[0m \u001b[39mdef\u001b[39;00m \u001b[39mforward\u001b[39m(\u001b[39mself\u001b[39m, hidden_states: Optional[Tuple[torch\u001b[39m.\u001b[39mFloatTensor]]) \u001b[39m-\u001b[39m\u001b[39m>\u001b[39m torch\u001b[39m.\u001b[39mFloatTensor:\n\u001b[1;32m    574\u001b[0m     hidden_states \u001b[39m=\u001b[39m \u001b[39mself\u001b[39m\u001b[39m.\u001b[39mc_fc(hidden_states)\n\u001b[0;32m--> 575\u001b[0m     hidden_states \u001b[39m=\u001b[39m \u001b[39mself\u001b[39;49m\u001b[39m.\u001b[39;49mact(hidden_states)\n\u001b[1;32m    576\u001b[0m     hidden_states \u001b[39m=\u001b[39m \u001b[39mself\u001b[39m\u001b[39m.\u001b[39mc_proj(hidden_states)\n\u001b[1;32m    577\u001b[0m     hidden_states \u001b[39m=\u001b[39m \u001b[39mself\u001b[39m\u001b[39m.\u001b[39mdropout(hidden_states)\n",
      "File \u001b[0;32m/usr/local/lib/python3.10/dist-packages/torch/nn/modules/module.py:1553\u001b[0m, in \u001b[0;36mModule._wrapped_call_impl\u001b[0;34m(self, *args, **kwargs)\u001b[0m\n\u001b[1;32m   1551\u001b[0m     \u001b[39mreturn\u001b[39;00m \u001b[39mself\u001b[39m\u001b[39m.\u001b[39m_compiled_call_impl(\u001b[39m*\u001b[39margs, \u001b[39m*\u001b[39m\u001b[39m*\u001b[39mkwargs)  \u001b[39m# type: ignore[misc]\u001b[39;00m\n\u001b[1;32m   1552\u001b[0m \u001b[39melse\u001b[39;00m:\n\u001b[0;32m-> 1553\u001b[0m     \u001b[39mreturn\u001b[39;00m \u001b[39mself\u001b[39;49m\u001b[39m.\u001b[39;49m_call_impl(\u001b[39m*\u001b[39;49margs, \u001b[39m*\u001b[39;49m\u001b[39m*\u001b[39;49mkwargs)\n",
      "File \u001b[0;32m/usr/local/lib/python3.10/dist-packages/torch/nn/modules/module.py:1562\u001b[0m, in \u001b[0;36mModule._call_impl\u001b[0;34m(self, *args, **kwargs)\u001b[0m\n\u001b[1;32m   1557\u001b[0m \u001b[39m# If we don't have any hooks, we want to skip the rest of the logic in\u001b[39;00m\n\u001b[1;32m   1558\u001b[0m \u001b[39m# this function, and just call forward.\u001b[39;00m\n\u001b[1;32m   1559\u001b[0m \u001b[39mif\u001b[39;00m \u001b[39mnot\u001b[39;00m (\u001b[39mself\u001b[39m\u001b[39m.\u001b[39m_backward_hooks \u001b[39mor\u001b[39;00m \u001b[39mself\u001b[39m\u001b[39m.\u001b[39m_backward_pre_hooks \u001b[39mor\u001b[39;00m \u001b[39mself\u001b[39m\u001b[39m.\u001b[39m_forward_hooks \u001b[39mor\u001b[39;00m \u001b[39mself\u001b[39m\u001b[39m.\u001b[39m_forward_pre_hooks\n\u001b[1;32m   1560\u001b[0m         \u001b[39mor\u001b[39;00m _global_backward_pre_hooks \u001b[39mor\u001b[39;00m _global_backward_hooks\n\u001b[1;32m   1561\u001b[0m         \u001b[39mor\u001b[39;00m _global_forward_hooks \u001b[39mor\u001b[39;00m _global_forward_pre_hooks):\n\u001b[0;32m-> 1562\u001b[0m     \u001b[39mreturn\u001b[39;00m forward_call(\u001b[39m*\u001b[39;49margs, \u001b[39m*\u001b[39;49m\u001b[39m*\u001b[39;49mkwargs)\n\u001b[1;32m   1564\u001b[0m \u001b[39mtry\u001b[39;00m:\n\u001b[1;32m   1565\u001b[0m     result \u001b[39m=\u001b[39m \u001b[39mNone\u001b[39;00m\n",
      "File \u001b[0;32m/usr/local/lib/python3.10/dist-packages/transformers/activations.py:56\u001b[0m, in \u001b[0;36mNewGELUActivation.forward\u001b[0;34m(self, input)\u001b[0m\n\u001b[1;32m     55\u001b[0m \u001b[39mdef\u001b[39;00m \u001b[39mforward\u001b[39m(\u001b[39mself\u001b[39m, \u001b[39minput\u001b[39m: Tensor) \u001b[39m-\u001b[39m\u001b[39m>\u001b[39m Tensor:\n\u001b[0;32m---> 56\u001b[0m     \u001b[39mreturn\u001b[39;00m \u001b[39m0.5\u001b[39;49m \u001b[39m*\u001b[39;49m \u001b[39minput\u001b[39;49m \u001b[39m*\u001b[39m (\u001b[39m1.0\u001b[39m \u001b[39m+\u001b[39m torch\u001b[39m.\u001b[39mtanh(math\u001b[39m.\u001b[39msqrt(\u001b[39m2.0\u001b[39m \u001b[39m/\u001b[39m math\u001b[39m.\u001b[39mpi) \u001b[39m*\u001b[39m (\u001b[39minput\u001b[39m \u001b[39m+\u001b[39m \u001b[39m0.044715\u001b[39m \u001b[39m*\u001b[39m torch\u001b[39m.\u001b[39mpow(\u001b[39minput\u001b[39m, \u001b[39m3.0\u001b[39m))))\n",
      "\u001b[0;31mOutOfMemoryError\u001b[0m: CUDA out of memory. Tried to allocate 6.00 GiB. GPU 0 has a total capacity of 23.65 GiB of which 4.01 GiB is free. Process 3190688 has 28.06 MiB memory in use. Process 288808 has 18.62 GiB memory in use. Process 406056 has 996.00 MiB memory in use. Of the allocated memory 18.11 GiB is allocated by PyTorch, and 69.10 MiB is reserved by PyTorch but unallocated. If reserved but unallocated memory is large try setting PYTORCH_CUDA_ALLOC_CONF=expandable_segments:True to avoid fragmentation.  See documentation for Memory Management  (https://pytorch.org/docs/stable/notes/cuda.html#environment-variables)"
     ]
    }
   ],
   "source": [
    "reconstruction_errors = dict()\n",
    "criterion = nn.MSELoss()\n",
    "\n",
    "for dataset_name, data_loader in dataloaders_tests.items():\n",
    "  reconstruction_errors[dataset_name] = get_reconstruction_error(model, dataset_name, data_loader, criterion)\n",
    "\n",
    "reconstruction_errors"
   ]
  },
  {
   "cell_type": "code",
   "execution_count": 27,
   "metadata": {},
   "outputs": [
    {
     "data": {
      "text/plain": [
       "<matplotlib.collections.PathCollection at 0x7fde9298f190>"
      ]
     },
     "execution_count": 27,
     "metadata": {},
     "output_type": "execute_result"
    },
    {
     "data": {
      "image/png": "[encoded data removed]",
      "text/plain": [
       "<Figure size 1000x500 with 1 Axes>"
      ]
     },
     "metadata": {},
     "output_type": "display_data"
    }
   ],
   "source": [
    "# Plot all reconstructions errors\n",
    "import matplotlib.pyplot as plt\n",
    "\n",
    "datasets = list(reconstruction_errors.keys())\n",
    "reconstruction_error_values = [reconstruction_errors[dataset][\"reconstruction_error\"] for dataset in datasets]\n",
    "\n",
    "plt.figure(figsize=(10, 5))\n",
    "plt.scatter(datasets[1:], reconstruction_error_values[1:])"
   ]
  },
  {
   "cell_type": "code",
   "execution_count": 28,
   "metadata": {},
   "outputs": [
    {
     "data": {
      "text/plain": [
       "{'IAM': (0.0028484346731653754, array(7.4604044, dtype=float32), 6.38),\n",
       " 'RIMES': (0.0024058964333298276, array(40.941715, dtype=float32), 24.96),\n",
       " 'Saint_Gall': (0.004999884126294283, array(66.99635, dtype=float32), 45.43),\n",
       " 'Bentham': (0.0017529360906675805, array(9.069226, dtype=float32), 25.29),\n",
       " 'Washington': (0.002542416685106564, array(9.620369, dtype=float32), 31.06),\n",
       " 'ICFHR_2016': (0.002749512523189466, array(116.38477, dtype=float32), 86.21),\n",
       " 'Rodrigo': (0.005206573418454972, array(109.62202, dtype=float32), 40.93)}"
      ]
     },
     "execution_count": 28,
     "metadata": {},
     "output_type": "execute_result"
    }
   ],
   "source": [
    "# Get triplets for recontruction errors and perplexity for each dataset\n",
    "\n",
    "# results for crnn_puig for cer\n",
    "test_cer_bentham = round(0.2528873085975647 * 100, 2)\n",
    "test_cer_iam = round(0.06377743184566498 * 100, 2)\n",
    "test_cer_icfhr_2016 = round(0.8621333837509155 * 100, 2)\n",
    "test_cer_rimes = round(0.24963143467903137 * 100, 2)\n",
    "test_cer_rodrigo = round(0.4092823266983032 * 100, 2)\n",
    "test_cer_saint_gall = round(0.45431503653526306 * 100, 2)\n",
    "test_cer_washington = round(0.3105919063091278 * 100, 2)\n",
    "\n",
    "triples_results_crnn_puig = dict()\n",
    "triples_results_crnn_puig[\"IAM\"] = (reconstruction_errors[\"IAM\"][\"reconstruction_error\"], (total_ppl_iam/len(dl_iam_test)).cpu().numpy(), test_cer_iam)\n",
    "triples_results_crnn_puig[\"RIMES\"] = (reconstruction_errors[\"RIMES\"][\"reconstruction_error\"], (total_ppl_rimes/len(dl_rimes_test)).cpu().numpy(), test_cer_rimes)\n",
    "triples_results_crnn_puig[\"Saint_Gall\"] = (reconstruction_errors[\"Saint_Gall\"][\"reconstruction_error\"], (total_ppl_saint_gall/len(dl_saint_gall_test)).cpu().numpy(), test_cer_saint_gall)\n",
    "triples_results_crnn_puig[\"Bentham\"] = (reconstruction_errors[\"Bentham\"][\"reconstruction_error\"], (total_ppl_bentham/len(dl_bentham_test)).cpu().numpy(), test_cer_bentham)\n",
    "triples_results_crnn_puig[\"Washington\"] = (reconstruction_errors[\"Washington\"][\"reconstruction_error\"], (total_ppl_washington/len(dl_washington_test)).cpu().numpy(), test_cer_washington)\n",
    "triples_results_crnn_puig[\"ICFHR_2016\"] = (reconstruction_errors[\"ICFHR_2016\"][\"reconstruction_error\"], (total_ppl_icfhr_2016/len(dl_icfhr_2016_test)).cpu().numpy(), test_cer_icfhr_2016)\n",
    "triples_results_crnn_puig[\"Rodrigo\"] = (reconstruction_errors[\"Rodrigo\"][\"reconstruction_error\"], (total_ppl_rodrigo/len(dl_rodrigo_test)).cpu().numpy(), test_cer_rodrigo)\n",
    "\n",
    "triples_results_crnn_puig"
   ]
  },
  {
   "cell_type": "code",
   "execution_count": 29,
   "metadata": {},
   "outputs": [
    {
     "name": "stdout",
     "output_type": "stream",
     "text": [
      "0.7805486485498481\n",
      "[-8.14322140e+03  5.68042089e-01]\n"
     ]
    }
   ],
   "source": [
    "# Fit a linear regression model to predict the cer from the reconstruction error and the perplexity\n",
    "\n",
    "import numpy as np\n",
    "from sklearn.linear_model import LinearRegression\n",
    "from sklearn.model_selection import train_test_split\n",
    "\n",
    "X = np.array([[v[0], v[1]] for v in triples_results_crnn_puig.values()])\n",
    "y = np.array([v[2] for v in triples_results_crnn_puig.values()])\n",
    "\n",
    "# X_train, X_test, y_train, y_test = train_test_split(X, y, test_size=0, random_state=42)\n",
    "X_train, y_train = X, y\n",
    "\n",
    "# reg = LinearRegression().fit(X_train, y_train)\n",
    "reg = LinearRegression().fit(X_train, y_train)\n",
    "\n",
    "print(reg.score(X_train, y_train))\n",
    "print(reg.coef_)\n"
   ]
  },
  {
   "cell_type": "code",
   "execution_count": 30,
   "metadata": {},
   "outputs": [
    {
     "data": {
      "image/png": "[encoded data removed]",
      "text/plain": [
       "<Figure size 1000x500 with 1 Axes>"
      ]
     },
     "metadata": {},
     "output_type": "display_data"
    }
   ],
   "source": [
    "# Plot the results\n",
    "import matplotlib.pyplot as plt\n",
    "\n",
    "plt.figure(figsize=(10, 5))\n",
    "\n",
    "plt.scatter(y_train, reg.predict(X_train), color=\"blue\")\n",
    "plt.plot(y_train, y_train, color=\"red\")\n",
    "\n",
    "plt.xlabel(\"True CER\")\n",
    "plt.ylabel(\"Predicted CER\")\n",
    "plt.title(\"Predicted CER vs True CER\")\n",
    "\n",
    "plt.show()\n"
   ]
  },
  {
   "cell_type": "code",
   "execution_count": 31,
   "metadata": {},
   "outputs": [
    {
     "data": {
      "text/plain": [
       "{'IAM': (0.0028484346731653754, array(7.4604044, dtype=float32), 6.48),\n",
       " 'RIMES': (0.0024058964333298276, array(40.941715, dtype=float32), 21.22),\n",
       " 'Saint_Gall': (0.004999884126294283, array(66.99635, dtype=float32), 38.74),\n",
       " 'Bentham': (0.0017529360906675805, array(9.069226, dtype=float32), 26.22),\n",
       " 'Washington': (0.002542416685106564, array(9.620369, dtype=float32), 33.35),\n",
       " 'ICFHR_2016': (0.002749512523189466, array(116.38477, dtype=float32), 85.38),\n",
       " 'Rodrigo': (0.005206573418454972, array(109.62202, dtype=float32), 37.87)}"
      ]
     },
     "execution_count": 31,
     "metadata": {},
     "output_type": "execute_result"
    }
   ],
   "source": [
    "# Get triplets for recontruction errors and perplexity for each dataset\n",
    "\n",
    "# results for van_coquenet for cer\n",
    "test_cer_bentham = round(0.26222336292266846 * 100, 2)\n",
    "test_cer_iam = round(0.0647944584488868 * 100, 2)\n",
    "test_cer_icfhr_2016 = round(0.853795289993286 * 100, 2)\n",
    "test_cer_rimes = round(0.2122079879045486 * 100, 2)\n",
    "test_cer_rodrigo = round(0.3787307441234588 * 100, 2)\n",
    "test_cer_saint_gall = round(0.387421429157257 * 100, 2)\n",
    "test_cer_washington = round(0.333489090204238 * 100, 2)\n",
    "\n",
    "triples_results_van_coquenet = dict()\n",
    "triples_results_van_coquenet[\"IAM\"] = (reconstruction_errors[\"IAM\"][\"reconstruction_error\"], (total_ppl_iam/len(dl_iam_test)).cpu().numpy(), test_cer_iam)\n",
    "triples_results_van_coquenet[\"RIMES\"] = (reconstruction_errors[\"RIMES\"][\"reconstruction_error\"], (total_ppl_rimes/len(dl_rimes_test)).cpu().numpy(), test_cer_rimes)\n",
    "triples_results_van_coquenet[\"Saint_Gall\"] = (reconstruction_errors[\"Saint_Gall\"][\"reconstruction_error\"], (total_ppl_saint_gall/len(dl_saint_gall_test)).cpu().numpy(), test_cer_saint_gall)\n",
    "triples_results_van_coquenet[\"Bentham\"] = (reconstruction_errors[\"Bentham\"][\"reconstruction_error\"], (total_ppl_bentham/len(dl_bentham_test)).cpu().numpy(), test_cer_bentham)\n",
    "triples_results_van_coquenet[\"Washington\"] = (reconstruction_errors[\"Washington\"][\"reconstruction_error\"], (total_ppl_washington/len(dl_washington_test)).cpu().numpy(), test_cer_washington)\n",
    "triples_results_van_coquenet[\"ICFHR_2016\"] = (reconstruction_errors[\"ICFHR_2016\"][\"reconstruction_error\"], (total_ppl_icfhr_2016/len(dl_icfhr_2016_test)).cpu().numpy(), test_cer_icfhr_2016)\n",
    "triples_results_van_coquenet[\"Rodrigo\"] = (reconstruction_errors[\"Rodrigo\"][\"reconstruction_error\"], (total_ppl_rodrigo/len(dl_rodrigo_test)).cpu().numpy(), test_cer_rodrigo)\n",
    "\n",
    "triples_results_van_coquenet"
   ]
  },
  {
   "cell_type": "code",
   "execution_count": 32,
   "metadata": {},
   "outputs": [
    {
     "name": "stdout",
     "output_type": "stream",
     "text": [
      "0.7571121953241918\n",
      "[-9.61963778e+03  5.60633443e-01]\n"
     ]
    }
   ],
   "source": [
    "# Fit a linear regression model to predict the cer from the reconstruction error and the perplexity\n",
    "\n",
    "import numpy as np\n",
    "from sklearn.linear_model import LinearRegression\n",
    "from sklearn.model_selection import train_test_split\n",
    "\n",
    "X = np.array([[v[0], v[1]] for v in triples_results_van_coquenet.values()])\n",
    "y = np.array([v[2] for v in triples_results_van_coquenet.values()])\n",
    "\n",
    "# X_train, X_test, y_train, y_test = train_test_split(X, y, test_size=0, random_state=42)\n",
    "X_train, y_train = X, y\n",
    "\n",
    "# reg = LinearRegression().fit(X_train, y_train)\n",
    "reg = LinearRegression().fit(X_train, y_train)\n",
    "\n",
    "print(reg.score(X_train, y_train))\n",
    "print(reg.coef_)\n"
   ]
  },
  {
   "cell_type": "code",
   "execution_count": 33,
   "metadata": {},
   "outputs": [
    {
     "data": {
      "image/png": "[encoded data removed]",
      "text/plain": [
       "<Figure size 1000x500 with 1 Axes>"
      ]
     },
     "metadata": {},
     "output_type": "display_data"
    }
   ],
   "source": [
    "# plot the data for van_coquenet and crnn_puig\n",
    "\n",
    "import matplotlib.pyplot as plt\n",
    "\n",
    "plt.figure(figsize=(10, 5))\n",
    "\n",
    "plt.scatter(y_train, reg.predict(X_train), color=\"blue\")\n",
    "plt.plot(y_train, y_train, color=\"red\")\n",
    "\n",
    "plt.xlabel(\"True CER\")\n",
    "plt.ylabel(\"Predicted CER\")\n",
    "plt.title(\"Predicted CER vs True CER\")\n",
    "\n",
    "plt.show()\n"
   ]
  },
  {
   "cell_type": "code",
   "execution_count": 34,
   "metadata": {},
   "outputs": [
    {
     "name": "stdout",
     "output_type": "stream",
     "text": [
      "0.7661601347519842\n",
      "[-8.88142959e+03  5.64337766e-01]\n"
     ]
    },
    {
     "data": {
      "image/png": "[encoded data removed]",
      "text/plain": [
       "<Figure size 1000x500 with 1 Axes>"
      ]
     },
     "metadata": {},
     "output_type": "display_data"
    }
   ],
   "source": [
    "# Fit a linear regression model to predict the cer from the reconstruction error and the perplexity for all models\n",
    "\n",
    "import numpy as np\n",
    "\n",
    "triples_results = dict()\n",
    "\n",
    "triples_results[\"crnn_puig\"] = triples_results_crnn_puig\n",
    "triples_results[\"van_coquenet\"] = triples_results_van_coquenet\n",
    "\n",
    "X = np.array([[v[0], v[1]] for v in triples_results[\"crnn_puig\"].values()])\n",
    "# Add the values for van_coquenet\n",
    "X = np.vstack([X, np.array([[v[0], v[1]] for v in triples_results[\"van_coquenet\"].values()])])\n",
    "\n",
    "y = np.array([v[2] for v in triples_results[\"crnn_puig\"].values()])\n",
    "# Add the values for van_coquenet\n",
    "y = np.hstack([y, np.array([v[2] for v in triples_results[\"van_coquenet\"].values()])])\n",
    "\n",
    "X_train, y_train = X, y\n",
    "\n",
    "reg = LinearRegression().fit(X_train, y_train)\n",
    "\n",
    "print(reg.score(X_train, y_train))\n",
    "print(reg.coef_)\n",
    "\n",
    "# plot the data for van_coquenet and crnn_puig\n",
    "\n",
    "import matplotlib.pyplot as plt\n",
    "\n",
    "plt.figure(figsize=(10, 5))\n",
    "\n",
    "plt.scatter(y_train, reg.predict(X_train), color=\"blue\")\n",
    "plt.plot(y_train, y_train, color=\"red\")\n",
    "\n",
    "plt.xlabel(\"True CER\")\n",
    "plt.ylabel(\"Predicted CER\")\n",
    "plt.title(\"Predicted CER vs True CER\")\n",
    "\n",
    "plt.show()\n",
    " "
   ]
  },
  {
   "cell_type": "code",
   "execution_count": null,
   "metadata": {},
   "outputs": [],
   "source": []
  }
 ],
 "metadata": {
  "kernelspec": {
   "display_name": "Python 3",
   "language": "python",
   "name": "python3"
  },
  "language_info": {
   "codemirror_mode": {
    "name": "ipython",
    "version": 3
   },
   "file_extension": ".py",
   "mimetype": "text/x-python",
   "name": "python",
   "nbconvert_exporter": "python",
   "pygments_lexer": "ipython3",
   "version": "3.10.12"
  }
 },
 "nbformat": 4,
 "nbformat_minor": 2
}
